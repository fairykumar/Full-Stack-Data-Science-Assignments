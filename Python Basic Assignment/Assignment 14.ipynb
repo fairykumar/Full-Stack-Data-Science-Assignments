{
 "cells": [
  {
   "cell_type": "markdown",
   "id": "0fcb1fc1",
   "metadata": {},
   "source": [
    "## 1. What does RGBA stand for?"
   ]
  },
  {
   "cell_type": "markdown",
   "id": "9dd6f451",
   "metadata": {},
   "source": [
    "_Answer 1:_\n",
    "\n",
    "RGBA represents a four-channel format containing data for Red, Green, Blue, and an Alpha value, where Alpha Represents the Opacity."
   ]
  },
  {
   "cell_type": "markdown",
   "id": "a64b47bf",
   "metadata": {},
   "source": [
    "## 2. From the Pillow module, how do you get the RGBA value of any images?"
   ]
  },
  {
   "cell_type": "markdown",
   "id": "4336d03a",
   "metadata": {},
   "source": [
    "_Answer 2:_\n",
    "\n",
    "ImageColor.getcolor() gives rgba value of any image."
   ]
  },
  {
   "cell_type": "markdown",
   "id": "95d1763f",
   "metadata": {},
   "source": [
    "## 3. What is a box tuple, and how does it work?"
   ]
  },
  {
   "cell_type": "markdown",
   "id": "a6186c1a",
   "metadata": {},
   "source": [
    "_Answer 3:_\n",
    "\n",
    "A box tuple is a tuple value of four integers, which are as follows:\n",
    "1. The left-edge x-coordinate\n",
    "2. The top-edge y-coordinate\n",
    "3. The width\n",
    "4. The height"
   ]
  },
  {
   "cell_type": "markdown",
   "id": "9228c51d",
   "metadata": {},
   "source": [
    "## 4. Use your image and load in notebook then, How can you find out the width and height of an Image object?"
   ]
  },
  {
   "cell_type": "code",
   "execution_count": 3,
   "id": "6426869f",
   "metadata": {},
   "outputs": [
    {
     "name": "stdout",
     "output_type": "stream",
     "text": [
      "Width, Height -> (800, 480)\n",
      "Width, Height -> 800,480\n",
      "Width, Height -> 800,480\n"
     ]
    }
   ],
   "source": [
    "# Answer 4:\n",
    "\n",
    "from PIL import Image\n",
    "pic = Image.open(r'C:\\Users\\Fairy\\Downloads\\Pic.jpg.jpg')\n",
    "print(f'Width, Height -> {pic.size}') # Approach 1\n",
    "print(f'Width, Height -> {pic.width},{pic.height}') # Approach 2\n",
    "width,height = pic.size\n",
    "print(f'Width, Height -> {width},{height}') # Approach 3"
   ]
  },
  {
   "cell_type": "markdown",
   "id": "fe5c46d7",
   "metadata": {},
   "source": [
    "## 5. What method would you call to get Image object for a 100×100 image, excluding the lower-left quarter of it?"
   ]
  },
  {
   "cell_type": "code",
   "execution_count": null,
   "id": "9834c42a",
   "metadata": {},
   "outputs": [],
   "source": [
    "# Answer 5:\n",
    "\n",
    "from PIL import Image\n",
    "img = Image.open(r'C:\\Users\\Fairy\\Downloads\\Pic.jpg.jpg')\n",
    "new_img = img.crop((0,50,50,50)"
   ]
  },
  {
   "cell_type": "markdown",
   "id": "6a76fa3e",
   "metadata": {},
   "source": [
    "## 6. After making changes to an Image object, how could you save it as an image file?"
   ]
  },
  {
   "cell_type": "code",
   "execution_count": null,
   "id": "296e5589",
   "metadata": {},
   "outputs": [],
   "source": [
    "# Answer 6:\n",
    "\n",
    "from PIL import Image\n",
    "pic = Image.open(r'C:\\Users\\Fairy\\Downloads\\Pic.jpg.jpg')\n",
    "pic.save('Pic2.jpg')"
   ]
  },
  {
   "cell_type": "markdown",
   "id": "cf7148d3",
   "metadata": {},
   "source": [
    "## 7. What module contains Pillow’s shape-drawing code?"
   ]
  },
  {
   "cell_type": "markdown",
   "id": "31492524",
   "metadata": {},
   "source": [
    "_Answer 7:_\n",
    "\n",
    "Pillows ImageDraw module contains Shape drawing methods"
   ]
  },
  {
   "cell_type": "markdown",
   "id": "a6ec6e19",
   "metadata": {},
   "source": [
    "## 8. Image objects do not have drawing methods. What kind of object does? How do you get this kind of object?"
   ]
  },
  {
   "cell_type": "code",
   "execution_count": null,
   "id": "7d6753b8",
   "metadata": {},
   "outputs": [],
   "source": []
  }
 ],
 "metadata": {
  "kernelspec": {
   "display_name": "Python 3",
   "language": "python",
   "name": "python3"
  },
  "language_info": {
   "codemirror_mode": {
    "name": "ipython",
    "version": 3
   },
   "file_extension": ".py",
   "mimetype": "text/x-python",
   "name": "python",
   "nbconvert_exporter": "python",
   "pygments_lexer": "ipython3",
   "version": "3.8.8"
  }
 },
 "nbformat": 4,
 "nbformat_minor": 5
}
