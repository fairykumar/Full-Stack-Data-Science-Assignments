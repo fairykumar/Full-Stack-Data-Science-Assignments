{
 "cells": [
  {
   "cell_type": "markdown",
   "id": "da972a2a",
   "metadata": {},
   "source": [
    "## 1. Why are functions advantageous to have in your programs?"
   ]
  },
  {
   "cell_type": "markdown",
   "id": "e5f17570",
   "metadata": {},
   "source": [
    "_Answer 1:_\n",
    "\n",
    "Functions are advantageous as they reduce the need for duplicate codes, helping in making the program short, easy to read and update as well. "
   ]
  },
  {
   "cell_type": "markdown",
   "id": "1f5cd821",
   "metadata": {},
   "source": [
    "## 2. When does the code in a function run: when it's specified or when it's called?"
   ]
  },
  {
   "cell_type": "markdown",
   "id": "62e1a894",
   "metadata": {},
   "source": [
    "_Answer 2:_\n",
    "\n",
    "When a function is called, it runs and not when it is specified."
   ]
  },
  {
   "cell_type": "markdown",
   "id": "69450dcb",
   "metadata": {},
   "source": [
    "## 3. What statement creates a function?"
   ]
  },
  {
   "cell_type": "markdown",
   "id": "bf26b5d4",
   "metadata": {},
   "source": [
    "_Answer 3:_\n",
    "\n",
    "Function is created by the def statement.\n",
    "\n",
    "Syntax of Function-\n",
    "\n",
    "def function_name(parameters):\n",
    "\n",
    "    \"\"\"doc string\"\"\"        \n",
    "    \n",
    "    -----function body-----\n",
    "    \n",
    "    -----function body-----\n",
    "    \n",
    "    return value"
   ]
  },
  {
   "cell_type": "markdown",
   "id": "a97d9d4d",
   "metadata": {},
   "source": [
    "## 4. What is the difference between a function and a function call?"
   ]
  },
  {
   "cell_type": "markdown",
   "id": "1cacf1e6",
   "metadata": {},
   "source": [
    "_Answer 4:_\n",
    "\n",
    "Function - It is defined as the procedure to achieve a particular result.\n",
    "\n",
    "Function Call - When a function is used in a program to do the assigned task, this process is called as function call."
   ]
  },
  {
   "cell_type": "markdown",
   "id": "b152eba1",
   "metadata": {},
   "source": [
    "## 5. How many global scopes are there in a Python program? How many local scopes?"
   ]
  },
  {
   "cell_type": "markdown",
   "id": "33e6507a",
   "metadata": {},
   "source": [
    "_Answer 5:_\n",
    "\n",
    "Python program has one global scope and one local scope which can be created whenever a function is called."
   ]
  },
  {
   "cell_type": "markdown",
   "id": "bcec43a1",
   "metadata": {},
   "source": [
    "## 6. What happens to variables in a local scope when the function call returns?"
   ]
  },
  {
   "cell_type": "markdown",
   "id": "e09b2a25",
   "metadata": {},
   "source": [
    "_Answer 6:_\n",
    "\n",
    "The local scope is destroyed and all variables contained in that are forgotten when the function call returns."
   ]
  },
  {
   "cell_type": "markdown",
   "id": "e36e6cdf",
   "metadata": {},
   "source": [
    "## 7. What is the concept of a return value? Is it possible to have a return value in an expression?"
   ]
  },
  {
   "cell_type": "markdown",
   "id": "4bb9dbe9",
   "metadata": {},
   "source": [
    "_Answer 7:_\n",
    "\n",
    "A return value is the value which a function call evaluates to, it can also be used as a part of an expression."
   ]
  },
  {
   "cell_type": "markdown",
   "id": "5a8e1aab",
   "metadata": {},
   "source": [
    "## 8. If a function does not have a return statement, what is the return value of a call to that function?"
   ]
  },
  {
   "cell_type": "markdown",
   "id": "00b18d03",
   "metadata": {},
   "source": [
    "_Answer 8:_\n",
    "\n",
    "When a function does not have a return statement, return value of call to that function is NONE."
   ]
  },
  {
   "cell_type": "markdown",
   "id": "15d2eb2c",
   "metadata": {},
   "source": [
    "## 9. How do you make a function variable refer to the global variable?"
   ]
  },
  {
   "cell_type": "markdown",
   "id": "aec3c102",
   "metadata": {},
   "source": [
    "_Answer 9:_\n",
    "\n",
    "Global Keyword are used to classify the varibles which are global. Global variable forces a variable in a function to refer to the global variable."
   ]
  },
  {
   "cell_type": "markdown",
   "id": "7bffe4ea",
   "metadata": {},
   "source": [
    "## 10. What is the data type of None?"
   ]
  },
  {
   "cell_type": "markdown",
   "id": "60f6a8b0",
   "metadata": {},
   "source": [
    "_Answer 9:_\n",
    "\n",
    "NoneType is the data type of None."
   ]
  },
  {
   "cell_type": "markdown",
   "id": "916bde70",
   "metadata": {},
   "source": [
    "## 11. What does the sentence import areallyourpetsnamederic do?"
   ]
  },
  {
   "cell_type": "markdown",
   "id": "15fcb43b",
   "metadata": {},
   "source": [
    "_Answer 11:_\n",
    "\n",
    "The import statement imports a module with the name areallyourpetsnamederic."
   ]
  },
  {
   "cell_type": "markdown",
   "id": "820cf7f5",
   "metadata": {},
   "source": [
    "## 12. If you had a bacon() feature in a spam module, what would you call it after importing spam?"
   ]
  },
  {
   "cell_type": "markdown",
   "id": "dcc90e62",
   "metadata": {},
   "source": [
    "_Answer 12:_\n",
    "\n",
    "Having bacon() feature in a spam module would be called as spam.bacon() after importing spam."
   ]
  },
  {
   "cell_type": "markdown",
   "id": "8d580314",
   "metadata": {},
   "source": [
    "## 13. What can you do to save a programme from crashing if it encounters an error?"
   ]
  },
  {
   "cell_type": "markdown",
   "id": "7a037379",
   "metadata": {},
   "source": [
    "_Answer 13:_\n",
    "\n",
    "To save a program from crashing if it encounters an error, place the line of code that is expected to cause an error and use except block to handle the error."
   ]
  },
  {
   "cell_type": "markdown",
   "id": "a476db90",
   "metadata": {},
   "source": [
    "## 14. What is the purpose of the try clause? What is the purpose of the except clause?"
   ]
  },
  {
   "cell_type": "markdown",
   "id": "dc6bd20f",
   "metadata": {},
   "source": [
    "_Answer 14:_\n",
    "\n",
    "The purpose of the try clause is that it takes the\n",
    "\n",
    "The code that could potentially cause an error goes in the try clause. The code that executes if an error happens goes in the except clause."
   ]
  }
 ],
 "metadata": {
  "kernelspec": {
   "display_name": "Python 3",
   "language": "python",
   "name": "python3"
  },
  "language_info": {
   "codemirror_mode": {
    "name": "ipython",
    "version": 3
   },
   "file_extension": ".py",
   "mimetype": "text/x-python",
   "name": "python",
   "nbconvert_exporter": "python",
   "pygments_lexer": "ipython3",
   "version": "3.8.8"
  }
 },
 "nbformat": 4,
 "nbformat_minor": 5
}
