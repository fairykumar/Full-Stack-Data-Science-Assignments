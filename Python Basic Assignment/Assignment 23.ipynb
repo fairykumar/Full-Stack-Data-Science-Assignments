{
 "cells": [
  {
   "cell_type": "markdown",
   "id": "52827d83",
   "metadata": {},
   "source": [
    "# 1. What is the result of the code, and why?\n",
    "\n",
    "    def func(a, b=6, c=8):\n",
    "\n",
    "print(a, b, c)\n",
    "\n",
    "    func(1, 2)"
   ]
  },
  {
   "cell_type": "markdown",
   "id": "27ec29ee",
   "metadata": {},
   "source": [
    "_Answer 1:_\n",
    "\n",
    "The result of the above code is 1 2 8 because the function uses the default value of c ie 8 which is provided at the time of declaration."
   ]
  },
  {
   "cell_type": "code",
   "execution_count": 1,
   "id": "68c77e49",
   "metadata": {},
   "outputs": [
    {
     "name": "stdout",
     "output_type": "stream",
     "text": [
      "1 2 8\n"
     ]
    }
   ],
   "source": [
    "def func(a,b=6,c=8):\n",
    "    print(a,b,c)\n",
    "func(1,2)"
   ]
  },
  {
   "cell_type": "markdown",
   "id": "4d354b9d",
   "metadata": {},
   "source": [
    "# 2. What is the result of this code, and why?\n",
    "\n",
    "    def func(a, b, c=5):\n",
    "\n",
    "print(a, b, c)\n",
    "\n",
    "    func(1, c=3, b=2)\n"
   ]
  },
  {
   "cell_type": "markdown",
   "id": "0f38a0c6",
   "metadata": {},
   "source": [
    "_Answer 2:_\n",
    "\n",
    "The result of the above code is 1 2 3 because the function will use default values only when a value for a argument is not provided. If argument name would have been mentioned while doing a function call, the order of arguments would have also been ignored by the python interpreter."
   ]
  },
  {
   "cell_type": "code",
   "execution_count": 2,
   "id": "82cf9139",
   "metadata": {},
   "outputs": [
    {
     "name": "stdout",
     "output_type": "stream",
     "text": [
      "1 2 3\n"
     ]
    }
   ],
   "source": [
    "def func(a, b, c=5):\n",
    "    print(a, b, c)\n",
    "func(1, c=3, b=2)"
   ]
  },
  {
   "cell_type": "markdown",
   "id": "39b6997c",
   "metadata": {},
   "source": [
    "# 3. How about this code: what is its result, and why?\n",
    "\n",
    "    def func(a, *pargs):\n",
    "\n",
    "print(a, pargs)\n",
    "    \n",
    "    func(1, 2, 3)"
   ]
  },
  {
   "cell_type": "markdown",
   "id": "6479ec26",
   "metadata": {},
   "source": [
    "_Answer 3:_\n",
    "\n",
    "The result of the code is 1 (2,3). *pargs stands for variable length arguments. This format is used when we are not sure about the number of arguments to be passed to a function. All the values under this argument will be stored in a tuple."
   ]
  },
  {
   "cell_type": "code",
   "execution_count": 3,
   "id": "7ffb275f",
   "metadata": {},
   "outputs": [
    {
     "name": "stdout",
     "output_type": "stream",
     "text": [
      "1 (2, 3)\n"
     ]
    }
   ],
   "source": [
    "def func(a, *pargs):\n",
    "    print(a,pargs)\n",
    "func(1,2,3)"
   ]
  },
  {
   "cell_type": "markdown",
   "id": "51244b86",
   "metadata": {},
   "source": [
    "# 4. What does this code print, and why?\n",
    "\n",
    "    def func(a, **kargs):\n",
    "\n",
    "print(a, kargs)\n",
    "    \n",
    "    func(a=1, c=3, b=2)"
   ]
  },
  {
   "cell_type": "markdown",
   "id": "4d790bb7",
   "metadata": {},
   "source": [
    "_Answer 4:_\n",
    "\n",
    "The result of the above code is 1 {'c': 3, 'b': 2}. **args stands for variable length keyword arguments. This format is used when we want pass key value pairs as input to a function. All these key value pairs will be stored in a dictionary."
   ]
  },
  {
   "cell_type": "code",
   "execution_count": 4,
   "id": "c31f8e27",
   "metadata": {},
   "outputs": [
    {
     "name": "stdout",
     "output_type": "stream",
     "text": [
      "1 {'c': 3, 'b': 2}\n"
     ]
    }
   ],
   "source": [
    "def func(a,**kargs):\n",
    "    print(a,kargs)\n",
    "func(a=1,c=3,b=2)"
   ]
  },
  {
   "cell_type": "markdown",
   "id": "0c34e0ac",
   "metadata": {},
   "source": [
    "# 5. What gets printed by this, and explain?\n",
    "\n",
    "    def func(a, b, c=8, d=5): print(a, b, c, d)\n",
    "    func(1, *(5, 6))\n"
   ]
  },
  {
   "cell_type": "markdown",
   "id": "edd34033",
   "metadata": {},
   "source": [
    "_Answer 5:_\n",
    "\n",
    "The output of the above is 1 5 6 5. This reason for this function not throwing an error is because, this function expects 4 arguments. the value for a is provided explicitly whereas for arguments b and c, the function will expand the *(5,6) and consider the value of b as 5 and value of c as 6. since the default value of d is provided in function declaration d value will be 5. However it is recommended to use the feature of positional arguments at the end."
   ]
  },
  {
   "cell_type": "code",
   "execution_count": null,
   "id": "9d0e24a6",
   "metadata": {},
   "outputs": [],
   "source": []
  },
  {
   "cell_type": "markdown",
   "id": "3f2fa496",
   "metadata": {},
   "source": [
    "# 6. what is the result of this, and explain?\n",
    "\n",
    "    def func(a, b, c): a = 2; b[0] = 'x'; c['a'] = 'y'\n",
    "    \n",
    "    l=1; m=[1]; n={'a':0}\n",
    "    \n",
    "    func(l, m, n)\n",
    "    \n",
    "    l, m, n\n"
   ]
  },
  {
   "cell_type": "code",
   "execution_count": null,
   "id": "f48eb491",
   "metadata": {},
   "outputs": [],
   "source": []
  }
 ],
 "metadata": {
  "kernelspec": {
   "display_name": "Python 3",
   "language": "python",
   "name": "python3"
  },
  "language_info": {
   "codemirror_mode": {
    "name": "ipython",
    "version": 3
   },
   "file_extension": ".py",
   "mimetype": "text/x-python",
   "name": "python",
   "nbconvert_exporter": "python",
   "pygments_lexer": "ipython3",
   "version": "3.8.8"
  }
 },
 "nbformat": 4,
 "nbformat_minor": 5
}
