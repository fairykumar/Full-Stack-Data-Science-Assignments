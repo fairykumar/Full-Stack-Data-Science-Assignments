{
 "cells": [
  {
   "cell_type": "markdown",
   "id": "cd1d672c",
   "metadata": {},
   "source": [
    "## 1. What does an empty dictionary's code look like?"
   ]
  },
  {
   "cell_type": "markdown",
   "id": "67e463a1",
   "metadata": {},
   "source": [
    "_Answer 1:_\n",
    "\n",
    "Empty dictionary code is shown by the two empty curly brackets, example:\n",
    "\n",
    "d = {} or d = ()"
   ]
  },
  {
   "cell_type": "markdown",
   "id": "3c74abbc",
   "metadata": {},
   "source": [
    "## 2. What is the value of a dictionary value with the key 'foo' and the value 42?"
   ]
  },
  {
   "cell_type": "markdown",
   "id": "d8e9f458",
   "metadata": {},
   "source": [
    "_Answer 2:_\n",
    "\n",
    "{'foo':42}"
   ]
  },
  {
   "cell_type": "markdown",
   "id": "17dea891",
   "metadata": {},
   "source": [
    "## 3. What is the most significant distinction between a dictionary and a list?"
   ]
  },
  {
   "cell_type": "markdown",
   "id": "d83d6a67",
   "metadata": {},
   "source": [
    "_Answer 3:_\n",
    "\n",
    "The most significant distinction between a dictionary and a list is that dictionaries are represented by {} with items stored in unordered manner and lists are represented by [] with items stored in ordered manner."
   ]
  },
  {
   "cell_type": "markdown",
   "id": "50f9e9e0",
   "metadata": {},
   "source": [
    "## 4. What happens if you try to access spam['foo'] if spam is {'bar': 100}?"
   ]
  },
  {
   "cell_type": "markdown",
   "id": "9399f343",
   "metadata": {},
   "source": [
    "_Answer 4:_\n",
    "\n",
    "It will give KeyError: 'foo'"
   ]
  },
  {
   "cell_type": "markdown",
   "id": "2cbfcc3e",
   "metadata": {},
   "source": [
    "## 5. If a dictionary is stored in spam, what is the difference between the expressions 'cat' in spam and 'cat' in spam.keys()?"
   ]
  },
  {
   "cell_type": "markdown",
   "id": "e5cb27a7",
   "metadata": {},
   "source": [
    "_Answer 5:_\n",
    "\n",
    "There will be no difference between the expressions 'cat' in spam and 'cat' in spam.keys() because the operator checks whether the value exists as a key in dictionary or not."
   ]
  },
  {
   "cell_type": "markdown",
   "id": "ae005d0c",
   "metadata": {},
   "source": [
    "## 6. If a dictionary is stored in spam, what is the difference between the expressions 'cat' in spam and 'cat' in spam.values()?"
   ]
  },
  {
   "cell_type": "markdown",
   "id": "b66a162c",
   "metadata": {},
   "source": [
    "_Answer 6:_\n",
    "\n",
    "\n",
    "'cat' in spam checks whether there is 'cat' key in the dictionary, on the other hand 'cat' in spam.values() checks whether there is a value 'cat' for one of the keys in spam or not."
   ]
  },
  {
   "cell_type": "markdown",
   "id": "58845035",
   "metadata": {},
   "source": [
    "## 7. What is a shortcut for the following code?\n",
    "\n",
    "if 'color' not in spam:\n",
    "\n",
    "spam['color'] = 'black'\n"
   ]
  },
  {
   "cell_type": "markdown",
   "id": "a4be3d16",
   "metadata": {},
   "source": [
    "_Answer 7:_\n",
    "\n",
    "spam.setdefault('color','black')"
   ]
  },
  {
   "cell_type": "markdown",
   "id": "2ac47e5f",
   "metadata": {},
   "source": [
    "## 8. How do you \"pretty print\" dictionary values using which module and function?"
   ]
  },
  {
   "cell_type": "markdown",
   "id": "3ef00410",
   "metadata": {},
   "source": [
    "_Answer 8:_\n",
    "\n",
    "\"pretty print\" dictionary values using the below module and function:\n",
    "\n",
    "1. by using pprint() function of pprint module\n",
    "   --> Note: pprint() function does not prettify nested dictionaries\n",
    "2. by using dumps() method of json module\n",
    "3. by using dumps() method of yaml module"
   ]
  },
  {
   "cell_type": "code",
   "execution_count": 1,
   "id": "692b78aa",
   "metadata": {},
   "outputs": [
    {
     "name": "stdout",
     "output_type": "stream",
     "text": [
      "Printing using print() function\n",
      " [{'Name': 'Amar', 'Age': '19', 'Residence': {'Country': 'India', 'City': 'Delhi'}}, {'Name': 'Akbar', 'Age': '24', 'Residence': {'Country': 'Germany', 'City': 'Berlin'}}, {'Name': 'Anthony', 'Age': '35', 'Residence': {'Country': 'France', 'City': 'Paris'}}, {'Name': 'Billie', 'Age': '49', 'Residence': {'Country': 'USA', 'City': 'New York'}}]\n",
      "----------------------------------------------------------------------\n",
      "Printing using pprint() funciton\n",
      "[{'Age': '19',\n",
      "  'Name': 'Amar',\n",
      "  'Residence': {'City': 'Delhi', 'Country': 'India'}},\n",
      " {'Age': '24',\n",
      "  'Name': 'Akbar',\n",
      "  'Residence': {'City': 'Berlin', 'Country': 'Germany'}},\n",
      " {'Age': '35',\n",
      "  'Name': 'Anthony',\n",
      "  'Residence': {'City': 'Paris', 'Country': 'France'}},\n",
      " {'Age': '49',\n",
      "  'Name': 'Billie',\n",
      "  'Residence': {'City': 'New York', 'Country': 'USA'}}]\n",
      "----------------------------------------------------------------------\n",
      "Printing using dumps() method\n",
      " [\n",
      "    {\n",
      "        \"Name\": \"Amar\",\n",
      "        \"Age\": \"19\",\n",
      "        \"Residence\": {\n",
      "            \"Country\": \"India\",\n",
      "            \"City\": \"Delhi\"\n",
      "        }\n",
      "    },\n",
      "    {\n",
      "        \"Name\": \"Akbar\",\n",
      "        \"Age\": \"24\",\n",
      "        \"Residence\": {\n",
      "            \"Country\": \"Germany\",\n",
      "            \"City\": \"Berlin\"\n",
      "        }\n",
      "    },\n",
      "    {\n",
      "        \"Name\": \"Anthony\",\n",
      "        \"Age\": \"35\",\n",
      "        \"Residence\": {\n",
      "            \"Country\": \"France\",\n",
      "            \"City\": \"Paris\"\n",
      "        }\n",
      "    },\n",
      "    {\n",
      "        \"Name\": \"Billie\",\n",
      "        \"Age\": \"49\",\n",
      "        \"Residence\": {\n",
      "            \"Country\": \"USA\",\n",
      "            \"City\": \"New York\"\n",
      "        }\n",
      "    }\n",
      "]\n",
      "----------------------------------------------------------------------\n",
      "Printing using dump() method\n",
      " - Age: '19'\n",
      "  Name: Amar\n",
      "  Residence:\n",
      "    City: Delhi\n",
      "    Country: India\n",
      "- Age: '24'\n",
      "  Name: Akbar\n",
      "  Residence:\n",
      "    City: Berlin\n",
      "    Country: Germany\n",
      "- Age: '35'\n",
      "  Name: Anthony\n",
      "  Residence:\n",
      "    City: Paris\n",
      "    Country: France\n",
      "- Age: '49'\n",
      "  Name: Billie\n",
      "  Residence:\n",
      "    City: New York\n",
      "    Country: USA\n",
      "\n"
     ]
    }
   ],
   "source": [
    "ndict = [\n",
    "  {'Name': 'Amar', 'Age': '19', 'Residence': {'Country':'India', 'City': 'Delhi'}},\n",
    "  {'Name': 'Akbar', 'Age': '24', 'Residence': {'Country':'Germany', 'City': 'Berlin'}},\n",
    "  {'Name': 'Anthony', 'Age': '35', 'Residence': {'Country':'France', 'City': 'Paris'}},\n",
    "  {'Name': 'Billie', 'Age': '49', 'Residence': {'Country':'USA', 'City': 'New York'}}\n",
    "]\n",
    "\n",
    "print('Printing using print() function\\n',ndict)\n",
    "print('-'*70)\n",
    "import pprint\n",
    "print('Printing using pprint() funciton')\n",
    "pprint.pprint(ndict)\n",
    "print('-'*70)\n",
    "import json\n",
    "dump = json.dumps(ndict, indent=4)\n",
    "print('Printing using dumps() method\\n', dump)\n",
    "print('-'*70)\n",
    "import yaml\n",
    "dump = yaml.dump(ndict)\n",
    "print('Printing using dump() method\\n', dump)"
   ]
  }
 ],
 "metadata": {
  "kernelspec": {
   "display_name": "Python 3",
   "language": "python",
   "name": "python3"
  },
  "language_info": {
   "codemirror_mode": {
    "name": "ipython",
    "version": 3
   },
   "file_extension": ".py",
   "mimetype": "text/x-python",
   "name": "python",
   "nbconvert_exporter": "python",
   "pygments_lexer": "ipython3",
   "version": "3.8.8"
  }
 },
 "nbformat": 4,
 "nbformat_minor": 5
}
