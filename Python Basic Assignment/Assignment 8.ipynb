{
 "cells": [
  {
   "cell_type": "markdown",
   "id": "6b45e049",
   "metadata": {},
   "source": [
    "## 1. Is the Python Standard Library included with PyInputPlus?"
   ]
  },
  {
   "cell_type": "markdown",
   "id": "3a0eb9ec",
   "metadata": {},
   "source": [
    "_Answer 1:_\n",
    "\n",
    "No, PyInputPlus is not a part of Python Standard Library, it needs to be installed explicitly using the command !pip install PyInputPlus"
   ]
  },
  {
   "cell_type": "markdown",
   "id": "ee135f70",
   "metadata": {},
   "source": [
    "## 2. Why is PyInputPlus commonly imported with import pyinputplus as pypi?"
   ]
  },
  {
   "cell_type": "markdown",
   "id": "86d3de55",
   "metadata": {},
   "source": [
    "_Answer 2:_\n",
    "\n",
    "You can import the module with import pyinputplus as pyip so that you can enter a shorter name when calling the module's functions."
   ]
  },
  {
   "cell_type": "markdown",
   "id": "5642c103",
   "metadata": {},
   "source": [
    "## 3. How do you distinguish between inputInt() and inputFloat()?"
   ]
  },
  {
   "cell_type": "markdown",
   "id": "458e0b0f",
   "metadata": {},
   "source": [
    "_Answer 3:_\n",
    "\n",
    "inputInt() function Accepts an integer value. This also takes additional parameters min, max, greaterThan and lessThan for bounds. And it always returns an int. On the other hand, inputFloat() function Accepts a floating-point numeric value. this also takes additional min, max, greaterThan and lessThan parameters. and always returns a float."
   ]
  },
  {
   "cell_type": "markdown",
   "id": "b0d0fcf4",
   "metadata": {},
   "source": [
    "## 4. Using PyInputPlus, how do you ensure that the user enters a whole number between 0 and 99?"
   ]
  },
  {
   "cell_type": "markdown",
   "id": "053f56d9",
   "metadata": {},
   "source": [
    "_Answer 4:_\n",
    "\n",
    "PyInputPlus module provides a function called as inputInt() which only returns only integer values. To restrict the input between 0 and 99, i'ii use parameters like min & max to ensure that user enters the values between the defined range only."
   ]
  },
  {
   "cell_type": "code",
   "execution_count": 2,
   "id": "4e0fd455",
   "metadata": {},
   "outputs": [
    {
     "name": "stdout",
     "output_type": "stream",
     "text": [
      "Collecting PyInputPlus\n",
      "  Downloading PyInputPlus-0.2.12.tar.gz (20 kB)\n",
      "  Installing build dependencies: started\n",
      "  Installing build dependencies: finished with status 'done'\n",
      "  Getting requirements to build wheel: started\n",
      "  Getting requirements to build wheel: finished with status 'done'\n",
      "    Preparing wheel metadata: started\n",
      "    Preparing wheel metadata: finished with status 'done'\n",
      "Collecting pysimplevalidate>=0.2.7\n",
      "  Downloading PySimpleValidate-0.2.12.tar.gz (22 kB)\n",
      "  Installing build dependencies: started\n",
      "  Installing build dependencies: finished with status 'done'\n",
      "  Getting requirements to build wheel: started\n",
      "  Getting requirements to build wheel: finished with status 'done'\n",
      "    Preparing wheel metadata: started\n",
      "    Preparing wheel metadata: finished with status 'done'\n",
      "Collecting stdiomask>=0.0.3\n",
      "  Downloading stdiomask-0.0.6.tar.gz (3.6 kB)\n",
      "  Installing build dependencies: started\n",
      "  Installing build dependencies: finished with status 'done'\n",
      "  Getting requirements to build wheel: started\n",
      "  Getting requirements to build wheel: finished with status 'done'\n",
      "    Preparing wheel metadata: started\n",
      "    Preparing wheel metadata: finished with status 'done'\n",
      "Building wheels for collected packages: PyInputPlus, pysimplevalidate, stdiomask\n",
      "  Building wheel for PyInputPlus (PEP 517): started\n",
      "  Building wheel for PyInputPlus (PEP 517): finished with status 'done'\n",
      "  Created wheel for PyInputPlus: filename=PyInputPlus-0.2.12-py3-none-any.whl size=11315 sha256=cfb1893afc789737bcc30e65c52097d3201912cb38a0ca0e42826646f5d5e5d6\n",
      "  Stored in directory: c:\\users\\fairy\\appdata\\local\\pip\\cache\\wheels\\b9\\b4\\e7\\825446929f44b25d05f4df52bc4f7d211e5dec4c547126a098\n",
      "  Building wheel for pysimplevalidate (PEP 517): started\n",
      "  Building wheel for pysimplevalidate (PEP 517): finished with status 'done'\n",
      "  Created wheel for pysimplevalidate: filename=PySimpleValidate-0.2.12-py3-none-any.whl size=16193 sha256=05573d7a43c500931836d0304046e436f822b6ffd4fc9f9801fd95c38955860b\n",
      "  Stored in directory: c:\\users\\fairy\\appdata\\local\\pip\\cache\\wheels\\bd\\d4\\a5\\a003719238ab12962e430310093e567ab7d29bc3bfe062b14c\n",
      "  Building wheel for stdiomask (PEP 517): started\n",
      "  Building wheel for stdiomask (PEP 517): finished with status 'done'\n",
      "  Created wheel for stdiomask: filename=stdiomask-0.0.6-py3-none-any.whl size=3321 sha256=48b4d2400a4c74e2a626df9fdbd69a964436f5525d32b0e8192a88b15692496b\n",
      "  Stored in directory: c:\\users\\fairy\\appdata\\local\\pip\\cache\\wheels\\c1\\e9\\4e\\bcdfc282cffe91bb88e951ad9a05fb166ed6460bbe3c6dc02b\n",
      "Successfully built PyInputPlus pysimplevalidate stdiomask\n",
      "Installing collected packages: stdiomask, pysimplevalidate, PyInputPlus\n",
      "Successfully installed PyInputPlus-0.2.12 pysimplevalidate-0.2.12 stdiomask-0.0.6\n"
     ]
    }
   ],
   "source": [
    "!pip install PyInputPlus"
   ]
  },
  {
   "cell_type": "code",
   "execution_count": 1,
   "id": "93c2672a",
   "metadata": {},
   "outputs": [
    {
     "name": "stdout",
     "output_type": "stream",
     "text": [
      "Enter a number: 5\n",
      "5\n"
     ]
    }
   ],
   "source": [
    "import pyinputplus as pyip\n",
    "wholenumber = pyip.inputInt(prompt='Enter a number: ', min=0, max=100)\n",
    "print(wholenumber)"
   ]
  },
  {
   "cell_type": "markdown",
   "id": "80bd3ada",
   "metadata": {},
   "source": [
    "## 5. What is transferred to the keyword arguments allowRegexes and blockRegexes?"
   ]
  },
  {
   "cell_type": "markdown",
   "id": "6b049dbd",
   "metadata": {},
   "source": [
    "_Answer 5:_\n",
    "\n",
    "We can use allowRegexes and blockRegexes keyword arguments to take list of regular expression strings to determine what the pyinputplus function will reject or accept valid input."
   ]
  },
  {
   "cell_type": "markdown",
   "id": "4b62beb1",
   "metadata": {},
   "source": [
    "## 6. If a blank input is entered three times, what does inputStr(limit=3) do?"
   ]
  },
  {
   "cell_type": "markdown",
   "id": "c6dae3bf",
   "metadata": {},
   "source": [
    "_Answer 6:_\n",
    "\n",
    "The statement inputStr(limit=3) will throw two exceptions ValidationException and RetryLimitException.\n",
    "\n",
    "1. The first exception is thrown because blank values are not allowed by inputStr() function by default. it we want to consider blank values as valid input, we have to set blank=True.\n",
    "\n",
    "2. The second exception is occured because we have reached the max limit we have specified by using limit parameter. inorder to avoid this exception we can use default parameter to return a default value when max limit is reached."
   ]
  },
  {
   "cell_type": "markdown",
   "id": "dcb546eb",
   "metadata": {},
   "source": [
    "## 7. If blank input is entered three times, what does inputStr(limit=3, default='hello') do?"
   ]
  },
  {
   "cell_type": "markdown",
   "id": "4b372d4c",
   "metadata": {},
   "source": [
    "_Answer 7:_\n",
    "\n",
    "Since the default parameter is set to hello. after blank input is entered three times instead of raising RetryLimitException exception. The function will return hello as response to the calling function."
   ]
  },
  {
   "cell_type": "code",
   "execution_count": null,
   "id": "23240bf3",
   "metadata": {},
   "outputs": [],
   "source": []
  }
 ],
 "metadata": {
  "kernelspec": {
   "display_name": "Python 3",
   "language": "python",
   "name": "python3"
  },
  "language_info": {
   "codemirror_mode": {
    "name": "ipython",
    "version": 3
   },
   "file_extension": ".py",
   "mimetype": "text/x-python",
   "name": "python",
   "nbconvert_exporter": "python",
   "pygments_lexer": "ipython3",
   "version": "3.8.8"
  }
 },
 "nbformat": 4,
 "nbformat_minor": 5
}
