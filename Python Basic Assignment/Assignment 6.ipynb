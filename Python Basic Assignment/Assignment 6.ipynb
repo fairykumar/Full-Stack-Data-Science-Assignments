{
 "cells": [
  {
   "cell_type": "markdown",
   "id": "d71d1577",
   "metadata": {},
   "source": [
    "## 1. What are escape characters, and how do you use them?"
   ]
  },
  {
   "cell_type": "markdown",
   "id": "ec5b7742",
   "metadata": {},
   "source": [
    "_Answer 1:_\n",
    "\n",
    "Escape Characters are characters in string values that would be difficult or impossible to type into code. We can use the backslash character to escape a single character or symbol.\n",
    "\n",
    "Example: \\t, \\n"
   ]
  },
  {
   "cell_type": "markdown",
   "id": "41374170",
   "metadata": {},
   "source": [
    "## 2. What do the escape characters n and t stand for?"
   ]
  },
  {
   "cell_type": "markdown",
   "id": "59695809",
   "metadata": {},
   "source": [
    "_Answer 2:_\n",
    "\n",
    "\\n is a newline, \\t is a tab"
   ]
  },
  {
   "cell_type": "markdown",
   "id": "d54cd349",
   "metadata": {},
   "source": [
    "## 3. What is the way to include backslash characters in a string?"
   ]
  },
  {
   "cell_type": "markdown",
   "id": "c4410630",
   "metadata": {},
   "source": [
    "_Answer 3:_\n",
    "\n",
    "The \\\\\\ escape character will represent the backslash character in a string."
   ]
  },
  {
   "cell_type": "markdown",
   "id": "f698e1e7",
   "metadata": {},
   "source": [
    "## 4. The string &quot;Howl&#39;s Moving Castle&quot; is a correct value. Why isn&#39;t the single quote character in the word Howl&#39;s not escaped a problem?"
   ]
  },
  {
   "cell_type": "markdown",
   "id": "af777358",
   "metadata": {},
   "source": [
    "_Answer 4:_\n",
    "\n",
    "The string \"Howl's Moving Castle\" escaped the problem because it is wrapped inside double quotes. if its wrapped inside single quotes then we have to use escape character \\' to show single quote in the final output\n",
    "\n",
    "'Howl\\'s Moving Castle' --> 'Howl's Moving Castle'"
   ]
  },
  {
   "cell_type": "markdown",
   "id": "af5b146c",
   "metadata": {},
   "source": [
    "## 5. How do you write a string of newlines if you don&#39;t want to use the n character?"
   ]
  },
  {
   "cell_type": "markdown",
   "id": "da2f3050",
   "metadata": {},
   "source": [
    "_Answer 5:_\n",
    "\n",
    "Multiline string allow you to use newlines in string without the \\n escape character"
   ]
  },
  {
   "cell_type": "code",
   "execution_count": 1,
   "id": "07ec5bdd",
   "metadata": {},
   "outputs": [
    {
     "name": "stdout",
     "output_type": "stream",
     "text": [
      "iNeuron full stack\n",
      "Data Science Course\n"
     ]
    }
   ],
   "source": [
    "# Example:\n",
    "\n",
    "a = '''iNeuron full stack\n",
    "Data Science Course'''\n",
    "print(a)"
   ]
  },
  {
   "cell_type": "markdown",
   "id": "9bad6975",
   "metadata": {},
   "source": [
    "## 6. What are the values of the given expressions?\n",
    "\n",
    "&#39;Hello, world!&#39;[1]\n",
    "\n",
    "&#39;Hello, world!&#39;[0:5]\n",
    "\n",
    "&#39;Hello, world!&#39;[:5]\n",
    "\n",
    "&#39;Hello, world!&#39;[3:]"
   ]
  },
  {
   "cell_type": "markdown",
   "id": "fca34e40",
   "metadata": {},
   "source": [
    "_Answer 6:_\n",
    "\n",
    "The values for the given expressions are:\n",
    "\n",
    "'Hello, world!'[1] -> 'e'\n",
    "\n",
    "'Hello, world!'[0:5] -> 'Hello'\n",
    "\n",
    "'Hello, world!'[:5] -> 'Hello'\n",
    "\n",
    "'Hello, world!'[3:] -> 'lo, world!'"
   ]
  },
  {
   "cell_type": "markdown",
   "id": "4e54f9ee",
   "metadata": {},
   "source": [
    "## 7. What are the values of the following expressions?\n",
    "\n",
    "'Hello'.upper()\n",
    "\n",
    "'Hello'.upper().isupper()\n",
    "\n",
    "'Hello'.upper().lower()"
   ]
  },
  {
   "cell_type": "markdown",
   "id": "da1fb54a",
   "metadata": {},
   "source": [
    "_Answer 7:_\n",
    "\n",
    "The values for the given expressions are:\n",
    "\n",
    "'Hello'.upper() -> 'HELLO'\n",
    "\n",
    "'Hello'.upper().isupper() -> True\n",
    "\n",
    "'Hello'.upper().lower() -> 'hello'"
   ]
  },
  {
   "cell_type": "markdown",
   "id": "32986c14",
   "metadata": {},
   "source": [
    "## 8. What are the values of the following expressions?\n",
    "\n",
    "&#39;Remember, remember, the fifth of July.&#39;.split()\n",
    "\n",
    "&#39;-&#39;.join(&#39;There can only one.&#39;.split())"
   ]
  },
  {
   "cell_type": "markdown",
   "id": "5ca40d32",
   "metadata": {},
   "source": [
    "_Answer 8:_\n",
    "\n",
    "The values for the given expressions are:\n",
    "\n",
    "'Remember, remember, the fifith of July.'.split() --> ['Remember,', 'remember,', 'the', 'fifith', 'of', 'July.']\n",
    "\n",
    "'-'.join('There can only one'.split()) --> 'There-can-only-one'"
   ]
  },
  {
   "cell_type": "markdown",
   "id": "caf4f970",
   "metadata": {},
   "source": [
    "## 9. What are the methods for right-justifying, left-justifying, and centering a string?"
   ]
  },
  {
   "cell_type": "markdown",
   "id": "30fd30e7",
   "metadata": {},
   "source": [
    "_Answer 9:_\n",
    "\n",
    "The methods are as follows:\n",
    "1. Right justifying - rjust(),\n",
    "2. Left Justifying - ljust(),\n",
    "3. Centering a string - center()"
   ]
  },
  {
   "cell_type": "markdown",
   "id": "a8e7c058",
   "metadata": {},
   "source": [
    "## 10. What is the best way to remove whitespace characters from the start or end?"
   ]
  },
  {
   "cell_type": "markdown",
   "id": "d82bc20a",
   "metadata": {},
   "source": [
    "_Answer 10:_\n",
    "\n",
    "The lstrip() and rstrip() ways remove whitesapce characters from the left and right ends of a string respectively"
   ]
  }
 ],
 "metadata": {
  "kernelspec": {
   "display_name": "Python 3",
   "language": "python",
   "name": "python3"
  },
  "language_info": {
   "codemirror_mode": {
    "name": "ipython",
    "version": 3
   },
   "file_extension": ".py",
   "mimetype": "text/x-python",
   "name": "python",
   "nbconvert_exporter": "python",
   "pygments_lexer": "ipython3",
   "version": "3.8.8"
  }
 },
 "nbformat": 4,
 "nbformat_minor": 5
}
