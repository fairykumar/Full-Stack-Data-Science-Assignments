{
 "cells": [
  {
   "cell_type": "markdown",
   "id": "146d4253",
   "metadata": {},
   "source": [
    "## 1. What exactly is []?"
   ]
  },
  {
   "cell_type": "markdown",
   "id": "a40127cf",
   "metadata": {},
   "source": [
    "_Answer 1:_\n",
    "\n",
    "[] represents empty list which does not contain any item."
   ]
  },
  {
   "cell_type": "markdown",
   "id": "31d43878",
   "metadata": {},
   "source": [
    "## 2. In a list of values stored in a variable called spam, how would you assign the value 'hello' as the third value? (Assume [2, 4, 6, 8, 10] are in spam.) "
   ]
  },
  {
   "cell_type": "markdown",
   "id": "aab1f579",
   "metadata": {},
   "source": [
    "_Answer 2:_\n",
    "\n",
    "spam[2]='hello'\n",
    "Example is given below-"
   ]
  },
  {
   "cell_type": "code",
   "execution_count": 2,
   "id": "4b7cc9f4",
   "metadata": {},
   "outputs": [
    {
     "name": "stdout",
     "output_type": "stream",
     "text": [
      "[2, 4, 6, 8, 10]\n",
      "[2, 4, 'hello', 8, 10]\n"
     ]
    }
   ],
   "source": [
    "spam=[2,4,6,8,10]\n",
    "print(spam)\n",
    "spam[2]='hello' #Zero based indexing is used in the list\n",
    "print(spam)"
   ]
  },
  {
   "cell_type": "markdown",
   "id": "f1a50262",
   "metadata": {},
   "source": [
    "## Let's pretend the spam includes the list ['a', 'b', 'c', 'd'] for the next three queries."
   ]
  },
  {
   "cell_type": "markdown",
   "id": "922ba923",
   "metadata": {},
   "source": [
    "## 3. What is the value of spam[int(int('3' * 2) / 11)]?"
   ]
  },
  {
   "cell_type": "markdown",
   "id": "03784dbf",
   "metadata": {},
   "source": [
    "_Answer 3:_"
   ]
  },
  {
   "cell_type": "code",
   "execution_count": 3,
   "id": "1567d694",
   "metadata": {},
   "outputs": [
    {
     "name": "stdout",
     "output_type": "stream",
     "text": [
      "spam[int(int('3'*2)//11)] -> d\n"
     ]
    }
   ],
   "source": [
    "spam=['a','b','c','d']\n",
    "print(\"spam[int(int('3'*2)//11)] ->\",spam[int(int('3'*2)//11)])"
   ]
  },
  {
   "cell_type": "markdown",
   "id": "dc232ef1",
   "metadata": {},
   "source": [
    "## 4. What is the value of spam[-1]?"
   ]
  },
  {
   "cell_type": "markdown",
   "id": "c31920b3",
   "metadata": {},
   "source": [
    "_Answer 4:_"
   ]
  },
  {
   "cell_type": "code",
   "execution_count": 4,
   "id": "726d738a",
   "metadata": {},
   "outputs": [
    {
     "name": "stdout",
     "output_type": "stream",
     "text": [
      "spam[-1] ->  d\n"
     ]
    }
   ],
   "source": [
    "spam=['a','b','c','d']\n",
    "print('spam[-1] -> ',spam[-1])"
   ]
  },
  {
   "cell_type": "markdown",
   "id": "50c9ea8c",
   "metadata": {},
   "source": [
    "## 5. What is the value of spam[:2]?"
   ]
  },
  {
   "cell_type": "markdown",
   "id": "ae2f917c",
   "metadata": {},
   "source": [
    "_Answer 5:_"
   ]
  },
  {
   "cell_type": "code",
   "execution_count": 5,
   "id": "452d0f8c",
   "metadata": {},
   "outputs": [
    {
     "name": "stdout",
     "output_type": "stream",
     "text": [
      "['a', 'b', 'c', 'd']\n",
      "['a', 'b']\n"
     ]
    }
   ],
   "source": [
    "spam=['a','b','c','d']\n",
    "print(spam)\n",
    "print(spam[:2])"
   ]
  },
  {
   "cell_type": "markdown",
   "id": "32ec2e9b",
   "metadata": {},
   "source": [
    "## Let's pretend bacon has the list [3.14, 'cat,' 11, 'cat,' True] for the next three questions."
   ]
  },
  {
   "cell_type": "markdown",
   "id": "c04a1a09",
   "metadata": {},
   "source": [
    "## 6. What is the value of bacon.index('cat')?"
   ]
  },
  {
   "cell_type": "markdown",
   "id": "01a82fa8",
   "metadata": {},
   "source": [
    "_Answer 6:_"
   ]
  },
  {
   "cell_type": "code",
   "execution_count": 8,
   "id": "4fe83991",
   "metadata": {},
   "outputs": [
    {
     "name": "stdout",
     "output_type": "stream",
     "text": [
      "bacon.index('cat') -> 1\n"
     ]
    }
   ],
   "source": [
    "bacon = [3.14, 'cat', 11, 'cat', True]\n",
    "print(\"bacon.index('cat') ->\",bacon.index('cat'))"
   ]
  },
  {
   "cell_type": "markdown",
   "id": "80ed9901",
   "metadata": {},
   "source": [
    "## 7. How does bacon.append(99) change the look of the list value in bacon?"
   ]
  },
  {
   "cell_type": "markdown",
   "id": "da921ba6",
   "metadata": {},
   "source": [
    "_Answer 7:_"
   ]
  },
  {
   "cell_type": "code",
   "execution_count": 10,
   "id": "fb6f00f5",
   "metadata": {},
   "outputs": [
    {
     "name": "stdout",
     "output_type": "stream",
     "text": [
      "[3.14, 'cat', 11, 'cat', True]\n",
      "[3.14, 'cat', 11, 'cat', True, 99]\n"
     ]
    }
   ],
   "source": [
    "bacon = [3.14, 'cat', 11, 'cat', True]\n",
    "print(bacon)\n",
    "bacon.append(99) # appends 99 to be added at the end of the list\n",
    "print(bacon)"
   ]
  },
  {
   "cell_type": "markdown",
   "id": "938cf01b",
   "metadata": {},
   "source": [
    "## 8. How does bacon.remove('cat') change the look of the list in bacon?"
   ]
  },
  {
   "cell_type": "markdown",
   "id": "23a3a23b",
   "metadata": {},
   "source": [
    "_Answer 8:_"
   ]
  },
  {
   "cell_type": "code",
   "execution_count": 12,
   "id": "bc93cb26",
   "metadata": {},
   "outputs": [
    {
     "name": "stdout",
     "output_type": "stream",
     "text": [
      "[3.14, 'cat', 11, 'cat', True]\n",
      "[3.14, 11, 'cat', True]\n"
     ]
    }
   ],
   "source": [
    "bacon = [3.14, 'cat', 11, 'cat', True]\n",
    "print(bacon)\n",
    "bacon.remove('cat') #removes the first occurence of the element, here 'cat'\n",
    "print(bacon)"
   ]
  },
  {
   "cell_type": "markdown",
   "id": "7968d822",
   "metadata": {},
   "source": [
    "## 9. What are the list concatenation and list replication operators?"
   ]
  },
  {
   "cell_type": "markdown",
   "id": "bbb1ea94",
   "metadata": {},
   "source": [
    "_Answer 9:_\n",
    "\n",
    "The operator for list concatenation is + and the operator for replication is *. This holds the same for string as well.\n",
    "Example is given below:"
   ]
  },
  {
   "cell_type": "code",
   "execution_count": 15,
   "id": "5f5b0386",
   "metadata": {},
   "outputs": [
    {
     "name": "stdout",
     "output_type": "stream",
     "text": [
      "['AB', 'CD', 'EF', 'GH', 'IJK', 'XYZ', 'PQR', 'SUV']\n",
      "['XYZ', 'PQR', 'SUV', 'XYZ', 'PQR', 'SUV']\n"
     ]
    }
   ],
   "source": [
    "list_1 = ['AB','CD','EF','GH','IJK']\n",
    "list_2 = ['XYZ','PQR','SUV']\n",
    "print(list_1 + list_2) # List Concatenation (+)\n",
    "print(list_2*2) # List Replication (*)"
   ]
  },
  {
   "cell_type": "markdown",
   "id": "6977197d",
   "metadata": {},
   "source": [
    "## 10. What is difference between the list methods append() and insert()?"
   ]
  },
  {
   "cell_type": "markdown",
   "id": "91bb02ab",
   "metadata": {},
   "source": [
    "_Answer 10:_\n",
    "\n",
    "While append() will add values only to the end of a list, insert() can add them anywhere in the list. Example is given below:"
   ]
  },
  {
   "cell_type": "code",
   "execution_count": 17,
   "id": "cfc70d2c",
   "metadata": {},
   "outputs": [
    {
     "name": "stdout",
     "output_type": "stream",
     "text": [
      "[1, 2, 3, 4, 5, 6]\n",
      "[1, 2, 'Example', 3, 4, 5, 6]\n"
     ]
    }
   ],
   "source": [
    "list = [1,2,3,4,5]\n",
    "list.append(6)\n",
    "print(list)\n",
    "list.insert(2,'Example')\n",
    "print(list)"
   ]
  },
  {
   "cell_type": "markdown",
   "id": "c57f91bf",
   "metadata": {},
   "source": [
    "## 11. What are the two methods for removing items from a list?"
   ]
  },
  {
   "cell_type": "markdown",
   "id": "86fac2a8",
   "metadata": {},
   "source": [
    "_Answer 11:_\n",
    "\n",
    "Two methods for removing the items from a list are:\n",
    "\n",
    "a) del statement\n",
    "\n",
    "b) remove() method"
   ]
  },
  {
   "cell_type": "markdown",
   "id": "af328298",
   "metadata": {},
   "source": [
    "## 12. Describe how list values and string values are identical.\n"
   ]
  },
  {
   "cell_type": "markdown",
   "id": "974fe8cb",
   "metadata": {},
   "source": [
    "_Answer 12:_\n",
    "\n",
    "List values and string values are identical because-\n",
    "\n",
    "a) they can be passed to len() function\n",
    "\n",
    "b) have indexes and slices\n",
    "\n",
    "c) can be used for loops\n",
    "\n",
    "d) can be concatenated or replicated\n",
    "\n",
    "e) can be used with or without the operators"
   ]
  },
  {
   "cell_type": "markdown",
   "id": "a6015211",
   "metadata": {},
   "source": [
    "## 13. What's the difference between tuples and lists?"
   ]
  },
  {
   "cell_type": "markdown",
   "id": "ddff565f",
   "metadata": {},
   "source": [
    "_Answer 13:_\n",
    "\n",
    "Lists - They are Mutable, Indexable and Slicable. They can have values added, removed, or changed.\n",
    "\n",
    "Tuples - They are Immutable but Indexable and Slicable. Their values cannot be changed at all and can also be represented using parentheses, (), while lists use the square brackets, []."
   ]
  },
  {
   "cell_type": "markdown",
   "id": "b196b9f0",
   "metadata": {},
   "source": [
    "## 14. How do you type a tuple value that only contains the integer 42?"
   ]
  },
  {
   "cell_type": "markdown",
   "id": "cd039e66",
   "metadata": {},
   "source": [
    "_Answer 14:_\n",
    "\n",
    "(42,) (The trailing comma is mandatory, otherwise it would be considered as an int by python Interpreter)"
   ]
  },
  {
   "cell_type": "code",
   "execution_count": 18,
   "id": "afb0a274",
   "metadata": {},
   "outputs": [
    {
     "name": "stdout",
     "output_type": "stream",
     "text": [
      "<class 'int'>\n",
      "<class 'tuple'>\n"
     ]
    }
   ],
   "source": [
    "tup1=(42)\n",
    "tup2=(42,)\n",
    "print(type(tup1))\n",
    "print(type(tup2))"
   ]
  },
  {
   "cell_type": "markdown",
   "id": "a4affb1b",
   "metadata": {},
   "source": [
    "## 15. How do you get a list value's tuple form? How do you get a tuple value's list form?"
   ]
  },
  {
   "cell_type": "markdown",
   "id": "9581824e",
   "metadata": {},
   "source": [
    "_Answer 15:_\n",
    "\n",
    "The tuple() and list() functions, respectively are used to convert a list to tuple and vice versa."
   ]
  },
  {
   "cell_type": "markdown",
   "id": "54b00499",
   "metadata": {},
   "source": [
    "## 16. Variables that \"contain\" list values are not necessarily lists themselves. Instead, what do they contain?"
   ]
  },
  {
   "cell_type": "markdown",
   "id": "35353d6f",
   "metadata": {},
   "source": [
    "_Answer 16:_\n",
    "\n",
    "They \"contain\" references to list values."
   ]
  },
  {
   "cell_type": "markdown",
   "id": "3c12129d",
   "metadata": {},
   "source": [
    "## 17. How do you distinguish between copy.copy() and copy.deepcopy()?"
   ]
  },
  {
   "cell_type": "markdown",
   "id": "88f05fa4",
   "metadata": {},
   "source": [
    "_Answer 17:_\n",
    "\n",
    "The copy.copy() function will do a shallow copy of a list, while the copy.deepcopy() function will do a deep copy of a list. This mean only copy.deepcopy() will duplicate any lists inside the list."
   ]
  }
 ],
 "metadata": {
  "kernelspec": {
   "display_name": "Python 3",
   "language": "python",
   "name": "python3"
  },
  "language_info": {
   "codemirror_mode": {
    "name": "ipython",
    "version": 3
   },
   "file_extension": ".py",
   "mimetype": "text/x-python",
   "name": "python",
   "nbconvert_exporter": "python",
   "pygments_lexer": "ipython3",
   "version": "3.8.8"
  }
 },
 "nbformat": 4,
 "nbformat_minor": 5
}
