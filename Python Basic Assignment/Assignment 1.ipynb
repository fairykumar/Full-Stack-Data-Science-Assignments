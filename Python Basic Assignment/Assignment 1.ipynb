{
 "cells": [
  {
   "cell_type": "markdown",
   "id": "62b6fdaa",
   "metadata": {},
   "source": [
    "## 1. In the below elements which of them are values or an expression? eg:- values can be integer or string and expressions will be mathematical operators."
   ]
  },
  {
   "cell_type": "markdown",
   "id": "29a68e12",
   "metadata": {},
   "source": [
    "*\n",
    "&#39;hello&#39;\n",
    "-87.8\n",
    "-\n",
    "/\n",
    "+\n",
    "6"
   ]
  },
  {
   "cell_type": "markdown",
   "id": "c38788e4",
   "metadata": {},
   "source": [
    "_Answer 1:_\n",
    "\n",
    "The elements which are values:\n",
    "*, -, /, +\n",
    "\n",
    "The elements which are expressions:\n",
    "'hello', 87.8, 6"
   ]
  },
  {
   "cell_type": "markdown",
   "id": "5d556410",
   "metadata": {},
   "source": [
    "## 2. What is the difference between string and variable?"
   ]
  },
  {
   "cell_type": "markdown",
   "id": "64ac505b",
   "metadata": {},
   "source": [
    "_Answer 2:_\n",
    "\n",
    "STRING: \n",
    "It is a sequence of unicode characters, also referred to as immutable sequence of data type.\n",
    "    \n",
    "VARIABLE:\n",
    "To store values, specific reserved memory location is used and this is known as Variable."
   ]
  },
  {
   "cell_type": "markdown",
   "id": "73853fa2",
   "metadata": {},
   "source": [
    "## 3. Describe three different data types."
   ]
  },
  {
   "cell_type": "markdown",
   "id": "aaaf4941",
   "metadata": {},
   "source": [
    "_Answer 3:_\n",
    "\n",
    "DATA TYPES - \n",
    "It is a classification which specifies the type of value a variable has and what type of operation can be applied to it.\n",
    "Data types are of five types, i.e, String, Integer, Float, Character, Boolean. Three of them are described below:\n",
    "    \n",
    "    1. Integer - These are used for representing whole numbers.\n",
    "    2. Float - These are used for representing numbers with decimal point.\n",
    "    3. Boolean - These are used for representing logical values."
   ]
  },
  {
   "cell_type": "markdown",
   "id": "00892e76",
   "metadata": {},
   "source": [
    "## 4. What is an expression made up of? What do all expressions do?"
   ]
  },
  {
   "cell_type": "markdown",
   "id": "c6ec2801",
   "metadata": {},
   "source": [
    "_Answer 4:_\n",
    "\n",
    "An expression is made up of variables, operators and operands. It evaluates the result down to a single value. "
   ]
  },
  {
   "cell_type": "code",
   "execution_count": 1,
   "id": "595a304f",
   "metadata": {},
   "outputs": [
    {
     "data": {
      "text/plain": [
       "50"
      ]
     },
     "execution_count": 1,
     "metadata": {},
     "output_type": "execute_result"
    }
   ],
   "source": [
    "# Example -- evaluating the expression's value to 50\n",
    "\n",
    "20 * 5 - 50"
   ]
  },
  {
   "cell_type": "markdown",
   "id": "1d4086c3",
   "metadata": {},
   "source": [
    "## 5. This assignment statements, like spam = 10. What is the difference between an expression and a statement?"
   ]
  },
  {
   "cell_type": "markdown",
   "id": "5d2d6e85",
   "metadata": {},
   "source": [
    "_Answer 5:_\n",
    "\n",
    "EXPRESSION - It is a combination of variables, operations and values that returns a result value. \n",
    "\n",
    "STATEMENT - This makes up a line of Python code, it may or may not give a specific values rather it will perform the function mentioned in statement. \n",
    "\n",
    "Examples are given below:"
   ]
  },
  {
   "cell_type": "code",
   "execution_count": 1,
   "id": "97f7d475",
   "metadata": {},
   "outputs": [
    {
     "name": "stdout",
     "output_type": "stream",
     "text": [
      "My name is Dr. Steven Strange\n"
     ]
    }
   ],
   "source": [
    "3+9*4+5 # This is an expression\n",
    "\n",
    "stateName = 'The United States of America' # This is a statement\n",
    "\n",
    "print(\"My name is Dr. Steven Strange\") # This is an Expression Statement"
   ]
  },
  {
   "cell_type": "markdown",
   "id": "796cb22c",
   "metadata": {},
   "source": [
    "## 6. After running the following code, what does the variable bacon contain?\n",
    "\n",
    "bacon = 22\n",
    "bacon + 1\n"
   ]
  },
  {
   "cell_type": "markdown",
   "id": "e588c02a",
   "metadata": {},
   "source": [
    "_Answer 6:_ \n",
    "\n",
    "\n",
    "bacon 22 is the variable and bacon+1 is the expression and it does not reassign the value in bacon. The two cases arise in the above question which are as follows:"
   ]
  },
  {
   "cell_type": "code",
   "execution_count": 3,
   "id": "55027f46",
   "metadata": {},
   "outputs": [
    {
     "name": "stdout",
     "output_type": "stream",
     "text": [
      "22\n"
     ]
    }
   ],
   "source": [
    "# Case 1:\n",
    "\n",
    "bacon = 22\n",
    "bacon+1\n",
    "\n",
    "print(bacon)"
   ]
  },
  {
   "cell_type": "code",
   "execution_count": 4,
   "id": "eb84fab4",
   "metadata": {},
   "outputs": [
    {
     "name": "stdout",
     "output_type": "stream",
     "text": [
      "23\n"
     ]
    }
   ],
   "source": [
    "# Case 2:\n",
    "\n",
    "bacon = 22\n",
    "bacon = bacon+1\n",
    "\n",
    "print(bacon)"
   ]
  },
  {
   "cell_type": "markdown",
   "id": "60c635ba",
   "metadata": {},
   "source": [
    "## 7. What should the values of the following two terms be?\n",
    "\n",
    "'spam' + 'spamspam'\n",
    "'spam' * 3\n"
   ]
  },
  {
   "cell_type": "markdown",
   "id": "5295f7d6",
   "metadata": {},
   "source": [
    "_Answer 7:_\n",
    "\n",
    "The first expression 'spam' follows String Concatenation and the second expression follows String Multiplication. So, both of these evaluate expressions to string 'spamspamspam'."
   ]
  },
  {
   "cell_type": "code",
   "execution_count": 5,
   "id": "359b2561",
   "metadata": {},
   "outputs": [
    {
     "name": "stdout",
     "output_type": "stream",
     "text": [
      "spamspamspam\n",
      "spamspamspam\n"
     ]
    }
   ],
   "source": [
    "# String concatenation\n",
    "print('spam'+'spamspam')\n",
    "\n",
    "# String multiplication\n",
    "print('spam'*3) "
   ]
  },
  {
   "cell_type": "markdown",
   "id": "ee5bf70e",
   "metadata": {},
   "source": [
    "## 8. Why is eggs a valid variable name while 100 is invalid?"
   ]
  },
  {
   "cell_type": "markdown",
   "id": "fb018f9c",
   "metadata": {},
   "source": [
    "_Answer 8:_\n",
    "\n",
    "Variables in python cannot begin with a number and this is the reason why 100 is an invalid variable.\n",
    "The rules for naming a variable in Python are written below:\n",
    "\n",
    "1. Variable name must start with a letter or the underscore character.\n",
    "2. Variable name cannot start with a number.\n",
    "3. Variable name can only contain alpha-numeric characters and underscores (A-z, 0-9, & _ ).\n",
    "4. Variable names are case-sensitive (name, HULK and hulk are three different variables).\n",
    "5. The reserved words(keywords) cannot be used naming the variable."
   ]
  },
  {
   "cell_type": "markdown",
   "id": "e0bb20bb",
   "metadata": {},
   "source": [
    "## 9. What three functions can be used to get the integer, floating-point number, or string version of a value?"
   ]
  },
  {
   "cell_type": "markdown",
   "id": "18d6235e",
   "metadata": {},
   "source": [
    "_Answer 9:_\n",
    "\n",
    "The three functions which can be used to get the integer, floating-point number, or string version of a value are:\n",
    "1. int()\n",
    "2. float()\n",
    "3. str()\n",
    "\n",
    "Examples of the same are given below:"
   ]
  },
  {
   "cell_type": "code",
   "execution_count": 10,
   "id": "bdfa7890",
   "metadata": {},
   "outputs": [
    {
     "name": "stdout",
     "output_type": "stream",
     "text": [
      "int(4.5) -->  4\n",
      "float(4.5) -->  4.5\n",
      "str(4.5) -->  4.5\n"
     ]
    }
   ],
   "source": [
    "print('int(4.5) --> ',int(4.5)) # int() function converts given input to int\n",
    "print('float(4.5) --> ',float(4.5)) # float() function converts given input to float\n",
    "print('str(4.5) --> ',str(4.5)) # str() function converts given input to string"
   ]
  },
  {
   "cell_type": "markdown",
   "id": "98bc2893",
   "metadata": {},
   "source": [
    "## 10. Why does this expression cause an error? How can you fix it?\n",
    "'I have eaten ' + 99 + ' burritos.'\n"
   ]
  },
  {
   "cell_type": "markdown",
   "id": "36d628eb",
   "metadata": {},
   "source": [
    "_Answer 10:_\n",
    "\n",
    "The expression 99 causes an error because it is not a string. Typecasting of 99 as a string will fix this error.\n",
    "So, the correct way would be:"
   ]
  },
  {
   "cell_type": "code",
   "execution_count": 12,
   "id": "4678225c",
   "metadata": {},
   "outputs": [
    {
     "name": "stdout",
     "output_type": "stream",
     "text": [
      "I have eaten 99 burritos\n"
     ]
    }
   ],
   "source": [
    "'I have eaten ' + str(99) + 'burritos'\n",
    "\n",
    "print('I have eaten '+str(99)+' burritos')"
   ]
  }
 ],
 "metadata": {
  "kernelspec": {
   "display_name": "Python 3",
   "language": "python",
   "name": "python3"
  },
  "language_info": {
   "codemirror_mode": {
    "name": "ipython",
    "version": 3
   },
   "file_extension": ".py",
   "mimetype": "text/x-python",
   "name": "python",
   "nbconvert_exporter": "python",
   "pygments_lexer": "ipython3",
   "version": "3.8.8"
  }
 },
 "nbformat": 4,
 "nbformat_minor": 5
}
