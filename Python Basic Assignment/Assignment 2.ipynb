{
 "cells": [
  {
   "cell_type": "markdown",
   "id": "420cbeee",
   "metadata": {},
   "source": [
    "## 1.What are the two values of the Boolean data type? How do you write them?"
   ]
  },
  {
   "cell_type": "markdown",
   "id": "2f68ac2f",
   "metadata": {},
   "source": [
    "_Answer 1:_\n",
    "\n",
    "The two values of the Boolean data types are:\n",
    "\n",
    "(a) True (b) False"
   ]
  },
  {
   "cell_type": "code",
   "execution_count": 1,
   "id": "38cb7bcc",
   "metadata": {},
   "outputs": [
    {
     "name": "stdout",
     "output_type": "stream",
     "text": [
      "True <class 'bool'>\n",
      "False <class 'bool'>\n"
     ]
    }
   ],
   "source": [
    "a = True\n",
    "b = False\n",
    "\n",
    "print(a,type(a))\n",
    "print(b,type(b))"
   ]
  },
  {
   "cell_type": "markdown",
   "id": "560907b8",
   "metadata": {},
   "source": [
    "## 2. What are the three different types of Boolean operators?"
   ]
  },
  {
   "cell_type": "markdown",
   "id": "1a31a8f5",
   "metadata": {},
   "source": [
    "_Answer 2:_\n",
    "\n",
    "Three different types of Boolean operators are:\n",
    "\n",
    "(a) or (b) and (c) not"
   ]
  },
  {
   "cell_type": "code",
   "execution_count": 2,
   "id": "66f9aebf",
   "metadata": {},
   "outputs": [
    {
     "name": "stdout",
     "output_type": "stream",
     "text": [
      "True\n",
      "True\n",
      "False\n"
     ]
    }
   ],
   "source": [
    "a = 45\n",
    "b = 60\n",
    "\n",
    "print(a > 60 or b > 45) # Boolean operator or\n",
    "\n",
    "print(a > 15 and b > 45) # Boolean operator and\n",
    "\n",
    "print(not(a > 5)) # Boolean operator not"
   ]
  },
  {
   "cell_type": "markdown",
   "id": "7107f646",
   "metadata": {},
   "source": [
    "## 3. Make a list of each Boolean operator's truth tables (i.e. every possible combination of Boolean values for the operator and what it evaluate )."
   ]
  },
  {
   "cell_type": "markdown",
   "id": "c19ad817",
   "metadata": {},
   "source": [
    "_Answer 3:_\n",
    "\n",
    "List of Boolean operator's truth tables is given below:\n",
    "\n",
    "\n",
    "_1. Truth Table for 'or' operator-_\n",
    "\n",
    "• True and True --> True\n",
    "\n",
    "• True and False --> True\n",
    "\n",
    "• False and True --> True\n",
    "\n",
    "• False and False --> False\n",
    "\n",
    "\n",
    "_2. Truth Table for 'and' operator-_\n",
    "\n",
    "• True and True --> True\n",
    "\n",
    "• True and False --> False\n",
    "\n",
    "• False and True --> False\n",
    "\n",
    "• False and False --> False\n",
    "\n",
    "\n",
    "_3. Truth Table for not operaotor-_\n",
    "\n",
    "• True not --> False\n",
    "\n",
    "• False not --> True\n"
   ]
  },
  {
   "cell_type": "markdown",
   "id": "eeac69f1",
   "metadata": {},
   "source": [
    "## 4. What are the values of the following expressions?\n",
    "\n",
    "(5 > 4) and (3 == 5)\n",
    "\n",
    "not (5 > 4)\n",
    "\n",
    "(5 > 4) or (3 == 5)\n",
    "\n",
    "not ((5 > 4) or (3 == 5))\n",
    "\n",
    "(True and True) and (True == False)\n",
    "\n",
    "(not False) or (not True)"
   ]
  },
  {
   "cell_type": "code",
   "execution_count": 7,
   "id": "aa8ac155",
   "metadata": {},
   "outputs": [
    {
     "name": "stdout",
     "output_type": "stream",
     "text": [
      "False\n",
      "False\n",
      "True\n",
      "False\n",
      "False\n",
      "True\n"
     ]
    }
   ],
   "source": [
    "# Answer 4:\n",
    "\n",
    "print((5 > 4) and (3 == 5)) #False\n",
    "\n",
    "print(not(5 > 4)) #False\n",
    "\n",
    "print((5 > 4)or(3 == 5)) #True\n",
    "\n",
    "print(not((5 > 4)or(3 == 5))) #False\n",
    "\n",
    "print((True and True) and (True == False)) #False\n",
    "\n",
    "print((not False) or (not True)) #True"
   ]
  },
  {
   "cell_type": "markdown",
   "id": "f47a665d",
   "metadata": {},
   "source": [
    "## 5. What are the six comparison operators?"
   ]
  },
  {
   "cell_type": "markdown",
   "id": "f220016b",
   "metadata": {},
   "source": [
    "_Answer 5:_\n",
    "\n",
    "Six comparision operators are given below:\n",
    "\n",
    "== , != , < , > , <= , =>"
   ]
  },
  {
   "cell_type": "markdown",
   "id": "db8103fa",
   "metadata": {},
   "source": [
    "## 6. How do you tell the difference between the equal to and assignment operators?Describe a condition and when you would use one."
   ]
  },
  {
   "cell_type": "markdown",
   "id": "7dd00f53",
   "metadata": {},
   "source": [
    "_Answer 6:_\n",
    "\n",
    "The equal to operator, i.e, == compares two values and evaluates to a Boolean, however the assignment operator, i.e, = stores a value in a variable.  "
   ]
  },
  {
   "cell_type": "code",
   "execution_count": 8,
   "id": "2f1ff4c3",
   "metadata": {},
   "outputs": [
    {
     "name": "stdout",
     "output_type": "stream",
     "text": [
      "True\n"
     ]
    }
   ],
   "source": [
    "a = 6 # Assigning operator that stores 3 value in a variable a\n",
    "if a == 6: # Comparing values of a varible value and 3\n",
    "    print(a==6)"
   ]
  },
  {
   "cell_type": "markdown",
   "id": "fd911110",
   "metadata": {},
   "source": [
    "## 7. Identify the three blocks in this code:\n",
    "\n",
    "spam = 0\n",
    "\n",
    "if spam == 10:\n",
    "\n",
    "print('eggs')\n",
    "\n",
    "if spam > 5:\n",
    "\n",
    "print('bacon')\n",
    "\n",
    "else:\n",
    "\n",
    "print('ham')\n",
    "\n",
    "print('spam')\n",
    "\n",
    "print('spam')"
   ]
  },
  {
   "cell_type": "markdown",
   "id": "80701f3a",
   "metadata": {},
   "source": [
    "_Answer 7:_\n",
    "\n",
    "Code Block refers to a collection of code that is in the same block or indent. It is found in classes, functions and loops."
   ]
  },
  {
   "cell_type": "code",
   "execution_count": 9,
   "id": "1a281cb4",
   "metadata": {},
   "outputs": [
    {
     "name": "stdout",
     "output_type": "stream",
     "text": [
      "ham\n",
      "spam\n",
      "spam\n"
     ]
    }
   ],
   "source": [
    "spam = 0  \n",
    "if spam == 10:  \n",
    "    print('eggs')  # Block 1\n",
    "    \n",
    "if spam > 5:\n",
    "    print('bacon')\n",
    "    \n",
    "else:\n",
    "    print('ham')  # Block 3\n",
    "    \n",
    "print('spam')  \n",
    "print('spam')"
   ]
  },
  {
   "cell_type": "markdown",
   "id": "c706b5ed",
   "metadata": {},
   "source": [
    "## 8. Write code that prints Hello if 1 is stored in spam, prints Howdy if 2 is stored in spam, and prints Greetings! if anything else is stored in spam."
   ]
  },
  {
   "cell_type": "code",
   "execution_count": 10,
   "id": "4f03c507",
   "metadata": {},
   "outputs": [
    {
     "name": "stdout",
     "output_type": "stream",
     "text": [
      "Hello\n",
      "Howdy\n",
      "Greetings\n"
     ]
    }
   ],
   "source": [
    "# Answer 8:\n",
    "\n",
    "def spamCode(spam):\n",
    "    if spam == 1:\n",
    "        print('Hello')\n",
    "    elif spam == 2:\n",
    "        print('Howdy')\n",
    "    else:\n",
    "        print('Greetings')\n",
    "        \n",
    "spamCode(1) \n",
    "spamCode(2)\n",
    "spamCode(3)"
   ]
  },
  {
   "cell_type": "markdown",
   "id": "dbdfd603",
   "metadata": {},
   "source": [
    "## 9. If your programme is stuck in an endless loop, what keys you’ll press?"
   ]
  },
  {
   "cell_type": "markdown",
   "id": "ee9ab45d",
   "metadata": {},
   "source": [
    "_Answer 9:_\n",
    "\n",
    "If a program is stuck in an endless loop, press Ctrl-c to stop a program."
   ]
  },
  {
   "cell_type": "markdown",
   "id": "a9cd18cb",
   "metadata": {},
   "source": [
    "## 10. How can you tell the difference between break and continue?"
   ]
  },
  {
   "cell_type": "markdown",
   "id": "963c068f",
   "metadata": {},
   "source": [
    "_Answer 10:_\n",
    "\n",
    "Break statement moves the execution outside the loop, if break is satisfied. And, Continue statement moves the execution to the start of the loop."
   ]
  },
  {
   "cell_type": "markdown",
   "id": "40db146b",
   "metadata": {},
   "source": [
    "## 11. In a for loop, what is the difference between range(10), range(0, 10), and range(0, 10, 1)?"
   ]
  },
  {
   "cell_type": "markdown",
   "id": "690dac67",
   "metadata": {},
   "source": [
    "_Answer 11:_\n",
    "\n",
    "The difference between range(10), range(0, 10) and range(0, 10, 1) is given below:\n",
    "\n",
    "• The range(10) calls the range from 0 to 9 (but will not include 10).\n",
    "\n",
    "• The range(0, 10) explicitly tells the loop to start at 0.\n",
    "\n",
    "• The range(0, 10, 1) explicitly tells the loop to increase the variable by 1 on each iteration."
   ]
  },
  {
   "cell_type": "markdown",
   "id": "7b54f05d",
   "metadata": {},
   "source": [
    "## 12. Write a short program that prints the numbers 1 to 10 using a for loop. Then write an equivalent program that prints the numbers 1 to 10 using a while loop."
   ]
  },
  {
   "cell_type": "code",
   "execution_count": 11,
   "id": "b62ceee5",
   "metadata": {},
   "outputs": [
    {
     "name": "stdout",
     "output_type": "stream",
     "text": [
      "---------- Using For Loop ----------\n",
      "1 2 3 4 5 6 7 8 9 10 \n",
      "\n",
      "---------- Using While Loop ----------\n",
      "1 2 3 4 5 6 7 8 9 10 "
     ]
    }
   ],
   "source": [
    "# Answer 12:\n",
    "\n",
    "print('-' * 10, 'Using For Loop', '-' * 10)\n",
    "\n",
    "for i in range(1, 11):\n",
    "    print(i, end = \" \")\n",
    "    \n",
    "print('\\n')\n",
    "print('-' * 10, 'Using While Loop', '-' * 10) \n",
    "\n",
    "i=1\n",
    "while i <= 10:\n",
    "    print(i, end = \" \")\n",
    "    i += 1"
   ]
  },
  {
   "cell_type": "markdown",
   "id": "2ff2b677",
   "metadata": {},
   "source": [
    "## 13. If you had a function named bacon() inside a module named spam, how would you call it after importing spam?"
   ]
  },
  {
   "cell_type": "markdown",
   "id": "6b78378f",
   "metadata": {},
   "source": [
    "_Answer 13:_\n",
    "\n",
    "This function will be called as spam.bacon()"
   ]
  }
 ],
 "metadata": {
  "kernelspec": {
   "display_name": "Python 3",
   "language": "python",
   "name": "python3"
  },
  "language_info": {
   "codemirror_mode": {
    "name": "ipython",
    "version": 3
   },
   "file_extension": ".py",
   "mimetype": "text/x-python",
   "name": "python",
   "nbconvert_exporter": "python",
   "pygments_lexer": "ipython3",
   "version": "3.8.8"
  }
 },
 "nbformat": 4,
 "nbformat_minor": 5
}
