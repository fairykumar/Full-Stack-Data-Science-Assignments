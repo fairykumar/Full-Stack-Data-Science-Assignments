{
 "cells": [
  {
   "cell_type": "markdown",
   "id": "3ed6824b",
   "metadata": {},
   "source": [
    "## 1. Write a Python Program to Add Two Matrices?"
   ]
  },
  {
   "cell_type": "code",
   "execution_count": 1,
   "id": "9b6739e5",
   "metadata": {},
   "outputs": [
    {
     "name": "stdout",
     "output_type": "stream",
     "text": [
      "Inputs: [[1, 2, 3], [4, 5, 6], [7, 8, 9]],[[9, 8, 7], [6, 5, 4], [3, 2, 1]]\n",
      "Output: [[10, 10, 10], [10, 10, 10], [10, 10, 10]]\n",
      "Inputs: [[2, 3, 5], [1, 1, 1], [2, 2, 2]],[[4, 3, 5], [1, 2, 3], [3, 2, 1]]\n",
      "Output: [[6, 6, 10], [2, 3, 4], [5, 4, 3]]\n"
     ]
    }
   ],
   "source": [
    "def addMatrices(a,b):\n",
    "    print(f'Inputs: {a},{b}')\n",
    "    if len(a) == len(b):\n",
    "        out_matrix = []\n",
    "        for ele in range(len(a)):\n",
    "            if len(a[ele]) == len(b[ele]):\n",
    "                out_matrix.append([])\n",
    "                for sub_ele in range(len(a[ele])):\n",
    "                    out_matrix[ele].append(a[ele][sub_ele]+b[ele][sub_ele])\n",
    "            else:\n",
    "                print('Both Matrices must contains same no of rows and columns') \n",
    "    else:\n",
    "        print('Both Matrices must contains same no of rows and columns')\n",
    "    print(f'Output: {out_matrix}')\n",
    "\n",
    "addMatrices([[1,2,3],[4,5,6],[7,8,9]],[[9,8,7],[6,5,4],[3,2,1]])\n",
    "addMatrices([[2,3,5],[1,1,1],[2,2,2]],[[4,3,5],[1,2,3],[3,2,1]])"
   ]
  },
  {
   "cell_type": "markdown",
   "id": "9026b59a",
   "metadata": {},
   "source": [
    "## 2. Write a Python Program to Multiply Two Matrices?"
   ]
  },
  {
   "cell_type": "code",
   "execution_count": null,
   "id": "20320ee3",
   "metadata": {},
   "outputs": [],
   "source": []
  },
  {
   "cell_type": "markdown",
   "id": "3c7ba3a0",
   "metadata": {},
   "source": [
    "## 3. Write a Python Program to Transpose a Matrix?"
   ]
  },
  {
   "cell_type": "code",
   "execution_count": null,
   "id": "5fc8b5be",
   "metadata": {},
   "outputs": [],
   "source": []
  },
  {
   "cell_type": "markdown",
   "id": "b0232611",
   "metadata": {},
   "source": [
    "## 4. Write a Python Program to Sort Words in Alphabetic Order?"
   ]
  },
  {
   "cell_type": "code",
   "execution_count": null,
   "id": "4990cc08",
   "metadata": {},
   "outputs": [],
   "source": []
  },
  {
   "cell_type": "markdown",
   "id": "154e9d46",
   "metadata": {},
   "source": [
    "## 5. Write a Python Program to Remove Punctuation From a String?"
   ]
  },
  {
   "cell_type": "code",
   "execution_count": null,
   "id": "692e7660",
   "metadata": {},
   "outputs": [],
   "source": []
  }
 ],
 "metadata": {
  "kernelspec": {
   "display_name": "Python 3",
   "language": "python",
   "name": "python3"
  },
  "language_info": {
   "codemirror_mode": {
    "name": "ipython",
    "version": 3
   },
   "file_extension": ".py",
   "mimetype": "text/x-python",
   "name": "python",
   "nbconvert_exporter": "python",
   "pygments_lexer": "ipython3",
   "version": "3.8.8"
  }
 },
 "nbformat": 4,
 "nbformat_minor": 5
}
