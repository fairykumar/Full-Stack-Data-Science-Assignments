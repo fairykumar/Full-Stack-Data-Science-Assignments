{
 "cells": [
  {
   "cell_type": "markdown",
   "id": "9788ecfd",
   "metadata": {},
   "source": [
    "## Q1. Define the relationship between a class and its instances. Is it a one-to-one or a one-to-many partnership, for example?"
   ]
  },
  {
   "cell_type": "markdown",
   "id": "dc228a29",
   "metadata": {},
   "source": [
    "_Answer 1:_\n",
    "\n",
    "Relationship between a class and its instances is a one to many partnership."
   ]
  },
  {
   "cell_type": "markdown",
   "id": "5a91d181",
   "metadata": {},
   "source": [
    "## Q2. What kind of data is held only in an instance?"
   ]
  },
  {
   "cell_type": "markdown",
   "id": "1cdad39b",
   "metadata": {},
   "source": [
    "_Answer 2:_\n",
    "\n",
    "Instance objects contains the Instance variables which are specific to that specific Instance object."
   ]
  },
  {
   "cell_type": "markdown",
   "id": "f65bc7cd",
   "metadata": {},
   "source": [
    "## Q3. What kind of knowledge is stored in a class?"
   ]
  },
  {
   "cell_type": "markdown",
   "id": "1807bc09",
   "metadata": {},
   "source": [
    "_Answer 3:_\n",
    "\n",
    "Class creates a user-defined data structure, which holds its own data members and member functions, which can be accessed and used by creating an instance of that class. A class is like a blueprint for an object."
   ]
  },
  {
   "cell_type": "markdown",
   "id": "8d11b70f",
   "metadata": {},
   "source": [
    "## Q4. What exactly is a method, and how is it different from a regular function?"
   ]
  },
  {
   "cell_type": "markdown",
   "id": "7e0eba27",
   "metadata": {},
   "source": [
    "_Answer 4:_\n",
    "\n",
    "The methods with a class can be used to access the insatnce variables of its instance. So,the object's state can be modified by its method. Function can't access the attributes of an instance of a class or can't modify the state of the object."
   ]
  },
  {
   "cell_type": "markdown",
   "id": "d7e7a7f4",
   "metadata": {},
   "source": [
    "## Q5. Is inheritance supported in Python, and if so, what is the syntax?"
   ]
  },
  {
   "cell_type": "markdown",
   "id": "e237e749",
   "metadata": {},
   "source": [
    "_Answer 5:_\n",
    "\n",
    "Yes,Python supports inheritance. The Types of Inheritence Supported by Python are:\n",
    "\n",
    "1. Simple Inheritence\n",
    "2. Multiple Inheritence\n",
    "3. Multilevel lInheritence\n",
    "4. Hybrid Inheritence\n",
    "5. Hierracial Inheritence"
   ]
  },
  {
   "cell_type": "code",
   "execution_count": 1,
   "id": "037f4c60",
   "metadata": {},
   "outputs": [],
   "source": [
    "class Person:\n",
    "    def __init__(self, fname, lname):\n",
    "        self.first_name = fname\n",
    "        self.last_name = lname\n",
    "class Student(Person):\n",
    "    pass"
   ]
  },
  {
   "cell_type": "markdown",
   "id": "0ee7630c",
   "metadata": {},
   "source": [
    "## Q6. How much encapsulation (making instance or class variables private) does Python support?"
   ]
  },
  {
   "cell_type": "markdown",
   "id": "29c478b4",
   "metadata": {},
   "source": [
    "_Answer 6:_\n",
    "\n",
    "Encapsulation describes the idea of wrapping data and the methods that work on data within one unit. This puts restrictions on accessing variables and methods directly and can prevent the accidental modification of data. To prevent accidental change, an objects variable can only be changed by an objects method."
   ]
  },
  {
   "cell_type": "markdown",
   "id": "f9bba2f0",
   "metadata": {},
   "source": [
    "## Q7. How do you distinguish between a class variable and an instance variable?"
   ]
  },
  {
   "cell_type": "markdown",
   "id": "eb0389eb",
   "metadata": {},
   "source": [
    "_Answer 7:_\n",
    "\n",
    "The Class Attribute is available to all the instance objects of that class. whereas Instance Attributes are accessible only to the object or Instance of that class.\n",
    "\n",
    "A single copy of Class attributes is maintained by pvm at the class level. Whereas difference copies of instance attributes are maintained by pvm at objects/instance level."
   ]
  },
  {
   "cell_type": "markdown",
   "id": "68efa315",
   "metadata": {},
   "source": [
    "## Q8. When, if ever, can self be included in a class&#39;s method definitions?"
   ]
  },
  {
   "cell_type": "markdown",
   "id": "36dd2b6b",
   "metadata": {},
   "source": [
    "_Answer 8:_\n",
    "\n",
    "Yes, self can included in class method definations to access the instance variables inside class methods."
   ]
  },
  {
   "cell_type": "markdown",
   "id": "2ba69779",
   "metadata": {},
   "source": [
    "## Q9. What is the difference between the _ _add_ _ and the _ _radd_ _ methods?"
   ]
  },
  {
   "cell_type": "markdown",
   "id": "9bbabe4c",
   "metadata": {},
   "source": [
    "_Answer 9:_\n",
    "\n",
    "Entering __radd__ Python will first try __add__(), and if that returns Not Implemented Python will check if the right-hand operand implements __radd__, and if it does, it will call __radd__() rather than raising a TypeError."
   ]
  },
  {
   "cell_type": "markdown",
   "id": "f3af53ea",
   "metadata": {},
   "source": [
    "## Q10. When is it necessary to use a reflection method? When do you not need it, even though you support the operation in question?"
   ]
  },
  {
   "cell_type": "markdown",
   "id": "c201cdf2",
   "metadata": {},
   "source": [
    "_Answer 10:_\n",
    "\n",
    "Reflection method we often encounter the requirement that a method in the executing object, or a variable in the calling object, or a field of the object should be assigned, while the method name or field name can not be determined when encoding the code, and need to be input in the form of passing strings through parameters."
   ]
  },
  {
   "cell_type": "markdown",
   "id": "bbeb2a7e",
   "metadata": {},
   "source": [
    "## Q11. What is the _ _iadd_ _ method called?"
   ]
  },
  {
   "cell_type": "markdown",
   "id": "98907a75",
   "metadata": {},
   "source": [
    "_Answer 11:_\n",
    "\n",
    "__iadd__ method is called when we use implementation like a+=b which is a.__iadd__(b)."
   ]
  },
  {
   "cell_type": "markdown",
   "id": "873d5f97",
   "metadata": {},
   "source": [
    "## Q12. Is the _ _init_ _ method inherited by subclasses? What do you do if you need to customize its behavior within a subclass?"
   ]
  },
  {
   "cell_type": "markdown",
   "id": "4fc5f86d",
   "metadata": {},
   "source": [
    "_Answer 12:_\n",
    "\n",
    "Yes, __init__ method will be inherited by subclasses. if we want to customize its behaviour within a subclass we can use super() method."
   ]
  }
 ],
 "metadata": {
  "kernelspec": {
   "display_name": "Python 3",
   "language": "python",
   "name": "python3"
  },
  "language_info": {
   "codemirror_mode": {
    "name": "ipython",
    "version": 3
   },
   "file_extension": ".py",
   "mimetype": "text/x-python",
   "name": "python",
   "nbconvert_exporter": "python",
   "pygments_lexer": "ipython3",
   "version": "3.8.8"
  }
 },
 "nbformat": 4,
 "nbformat_minor": 5
}
