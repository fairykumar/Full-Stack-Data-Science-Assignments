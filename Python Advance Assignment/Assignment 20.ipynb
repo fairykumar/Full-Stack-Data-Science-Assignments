{
 "cells": [
  {
   "cell_type": "markdown",
   "id": "7f1ac2b8",
   "metadata": {},
   "source": [
    "## 1. Compare and contrast the float and Decimal classes' benefits and drawbacks."
   ]
  },
  {
   "cell_type": "markdown",
   "id": "1f042341",
   "metadata": {},
   "source": [
    "_Answer 1:_\n",
    "\n",
    "Both the float and decimal types store numerical values in Python.\n",
    "\n",
    "Use floats when convenience and speed matter. A float gives you an approximation of the number you declare.\n",
    "\n",
    "Use decimals when precision matters. Decimals can suffer from their own precision issues, but generally, decimals are more precise than floats. The performance difference between float and decimal, with Python 3, is not outlandish, and in my experience, the precision benefits of a decimal outweigh the performance benefits of a float."
   ]
  },
  {
   "cell_type": "markdown",
   "id": "0bb679d0",
   "metadata": {},
   "source": [
    "## 2. Decimal('1.200') and Decimal('1.2') are two objects to consider. In what sense are these the same object? Are these just two ways of representing the exact same value, or do they correspond to different internal states?"
   ]
  },
  {
   "cell_type": "markdown",
   "id": "94933207",
   "metadata": {},
   "source": [
    "_Answer 2:_\n",
    "\n",
    "Both values are same but internal representation at storage Is different. Precsion differs, Decimal('1.200') gives internally 1.200 and Decimal('1.2') gives 1.2."
   ]
  },
  {
   "cell_type": "markdown",
   "id": "5c9b7ac4",
   "metadata": {},
   "source": [
    "## 3. What happens if the equality of Decimal('1.200') and Decimal('1.2') is checked?"
   ]
  },
  {
   "cell_type": "markdown",
   "id": "ec742a3d",
   "metadata": {},
   "source": [
    "_Answer 3:_\n",
    "\n",
    "Both values are checked to be equal , they only differ in precision."
   ]
  },
  {
   "cell_type": "markdown",
   "id": "e6141167",
   "metadata": {},
   "source": [
    "## 4. Why is it preferable to start a Decimal object with a string rather than a floating-point value?"
   ]
  },
  {
   "cell_type": "markdown",
   "id": "c3e5499b",
   "metadata": {},
   "source": [
    "_Answer 4:_\n",
    "\n",
    "Floating-point value is converted to Decimal format. Decimal can store float value with absolute precision. But when float value is given as Decimal object,it first has to be converted from floating point value which might already have rounding error.\n",
    "\n",
    "Hence it is preferable to start a Decimal object with a string."
   ]
  },
  {
   "cell_type": "markdown",
   "id": "a4972f63",
   "metadata": {},
   "source": [
    "## 5. In an arithmetic phrase, how simple is it to combine Decimal objects with integers?"
   ]
  },
  {
   "cell_type": "markdown",
   "id": "2511c4d6",
   "metadata": {},
   "source": [
    "_Answer 5:_\n",
    "\n",
    "We can do it with use of Decimal()."
   ]
  },
  {
   "cell_type": "markdown",
   "id": "9a463d0e",
   "metadata": {},
   "source": [
    "## 6. Can Decimal objects and floating-point values be combined easily?"
   ]
  },
  {
   "cell_type": "markdown",
   "id": "c9e0b4df",
   "metadata": {},
   "source": [
    "_Answer 6:_\n",
    "\n",
    "Arithmetic operfations like Adding,subtracting or multiplying a Decimal object by a floating-point value is generates an error.\n",
    "\n",
    "To do these operations, the floating point has to be converted to a Decimal."
   ]
  },
  {
   "cell_type": "markdown",
   "id": "8c0fce0d",
   "metadata": {},
   "source": [
    "## 7. Using the Fraction class but not the Decimal class, give an example of a quantity that can be expressed with absolute precision."
   ]
  },
  {
   "cell_type": "markdown",
   "id": "5933912a",
   "metadata": {},
   "source": [
    "_Answer 7:_\n",
    "\n",
    "Value of 0.5 will be represented as ½."
   ]
  },
  {
   "cell_type": "markdown",
   "id": "79f23e95",
   "metadata": {},
   "source": [
    "## 8. Describe a quantity that can be accurately expressed by the Decimal or Fraction classes but not by a floating-point value."
   ]
  },
  {
   "cell_type": "markdown",
   "id": "0f694aa1",
   "metadata": {},
   "source": [
    "_Answer 8:_\n",
    "\n",
    "Both will be reduced to 1/2."
   ]
  },
  {
   "cell_type": "markdown",
   "id": "08ebfb3c",
   "metadata": {},
   "source": [
    "## Q9.Consider the following two fraction objects: Fraction(1, 2) and Fraction(1, 2). (5, 10). Is the internal state of these two objects the same? Why do you think that is?"
   ]
  },
  {
   "cell_type": "markdown",
   "id": "5e7a8579",
   "metadata": {},
   "source": [
    "_Answer 9:_\n",
    "\n",
    "Fraction class and integer type(int) are related in form of a container.It contains two ints, one the numerator and the other the denominator."
   ]
  },
  {
   "cell_type": "markdown",
   "id": "bd236b3e",
   "metadata": {},
   "source": [
    "## Q10. How do the Fraction class and the integer type (int) relate to each other? Containment or inheritance?"
   ]
  },
  {
   "cell_type": "markdown",
   "id": "6c126b06",
   "metadata": {},
   "source": [
    "_Answer 10:_\n",
    "\n",
    "Integers include all whole numbers, plus the negatives of all the numbers except zero. They do not include any decimal or fractional numbers. Fractions, on the other hand, express one integer divided by another, and often equal a decimal number.\n",
    "\n",
    "The container class can't override the functionality of the contained class. The derived class may add data or functions to the base class. The container class can't add anything to the contained class. Inheritance represents a “is-a” relationship."
   ]
  }
 ],
 "metadata": {
  "kernelspec": {
   "display_name": "Python 3",
   "language": "python",
   "name": "python3"
  },
  "language_info": {
   "codemirror_mode": {
    "name": "ipython",
    "version": 3
   },
   "file_extension": ".py",
   "mimetype": "text/x-python",
   "name": "python",
   "nbconvert_exporter": "python",
   "pygments_lexer": "ipython3",
   "version": "3.8.8"
  }
 },
 "nbformat": 4,
 "nbformat_minor": 5
}
