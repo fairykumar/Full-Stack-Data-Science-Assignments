{
 "cells": [
  {
   "cell_type": "markdown",
   "id": "0c075a50",
   "metadata": {},
   "source": [
    "## Q1. What is the purpose of Python's OOP?"
   ]
  },
  {
   "cell_type": "markdown",
   "id": "58cb4c72",
   "metadata": {},
   "source": [
    "_Answer 1:_\n",
    "\n",
    "OOP, i.e, Object-oriented Programming is a programming paradigm that provides a means of structuring programs so that properties and behaviors are bundled into individual objects.\n",
    "\n",
    "• In Python, object-oriented Programming (OOPs) uses objects and classes in programming.\n",
    "\n",
    "• It aims to implement real-world entities like inheritance, polymorphisms, encapsulation, etc. in the programming.\n",
    "\n",
    "• The main concept of OOPs is to bind the data and the functions that work on that together as a single unit so that no other part of the code can access this data.\n",
    "\n",
    "Advantages of OOPs are given bwlow:\n",
    "\n",
    "• It helps to divide our over all program into different small segments and thus making it solving easy with the use of objects\n",
    "\n",
    "• Helps in easy maintenance and modification of existing program\n",
    "\n",
    "• Multiple instances of an object can be made."
   ]
  },
  {
   "cell_type": "markdown",
   "id": "c8359fef",
   "metadata": {},
   "source": [
    "## Q2. Where does an inheritance search look for an attribute?"
   ]
  },
  {
   "cell_type": "markdown",
   "id": "c7eb0956",
   "metadata": {},
   "source": [
    "_Answer 2:_\n",
    "\n",
    "Python searches for an attribute in an upward tree of attributes. It first searches for the attribute in its instance and then looks in the class it is generated from, to all super classes listed in its class header."
   ]
  },
  {
   "cell_type": "markdown",
   "id": "15683e9d",
   "metadata": {},
   "source": [
    "## Q3. How do you distinguish between a class object and an instance object?"
   ]
  },
  {
   "cell_type": "markdown",
   "id": "9c109889",
   "metadata": {},
   "source": [
    "_Answer 3:_\n",
    "    \n",
    "The differences between a class object and an instance object are:\n",
    "\n",
    "1. Class is a template for creating objects whereas object is an instance of class\n",
    "2. Seperate memory is allocated for each object whenever an object is created. but for a class this doesnot happens.\n",
    "3. A Class is created once. Many objects are created using a class.\n",
    "4. As Classes have no allocated memory. they can't be manipulated. but objects can be manipulated."
   ]
  },
  {
   "cell_type": "markdown",
   "id": "1efe29c1",
   "metadata": {},
   "source": [
    "## Q4. What makes the first argument in a class’s method function special?"
   ]
  },
  {
   "cell_type": "markdown",
   "id": "37fdec0b",
   "metadata": {},
   "source": [
    "_Answer 4:_\n",
    "\n",
    "Python Classes usually have three types of methods which are:\n",
    "\n",
    "1. Instance Methods (object level methods)\n",
    "2. Class Methods (class level methods)\n",
    "3. Static Methods (general utility methods)\n",
    "\n",
    "➤ _self_ is the first argument for instance methods. which refers to the object itself\n",
    "\n",
    "➤ _cls_ is the first argument for class methods which refers to the class itself"
   ]
  },
  {
   "cell_type": "markdown",
   "id": "7fc439dc",
   "metadata": {},
   "source": [
    "## Q5. What is the purpose of the __init__ method?"
   ]
  },
  {
   "cell_type": "markdown",
   "id": "3582e89a",
   "metadata": {},
   "source": [
    "_Answer 5:_\n",
    "    \n",
    "____ init ____ is a reseved method in python classes. It serves the role of a constructor in object oriented terminology. This method is called when an object is created from a class and it allows the class to initialize the attributes of the class."
   ]
  },
  {
   "cell_type": "markdown",
   "id": "249ae414",
   "metadata": {},
   "source": [
    "## Q6. What is the process for creating a class instance?"
   ]
  },
  {
   "cell_type": "markdown",
   "id": "1bca9809",
   "metadata": {},
   "source": [
    "_Answer 6:_\n",
    "\n",
    "To create a class instance, we need to call the class by its name and pass the arguments to the class, which its __init__ method accepts."
   ]
  },
  {
   "cell_type": "markdown",
   "id": "4e0eab92",
   "metadata": {},
   "source": [
    "## Q7. What is the process for creating a class?"
   ]
  },
  {
   "cell_type": "markdown",
   "id": "bab9478a",
   "metadata": {},
   "source": [
    "_Answer 7:_\n",
    "\n",
    "__class__ keyword is used to created a class in python. The syntax to create a class in python is class <classname>:"
   ]
  },
  {
   "cell_type": "markdown",
   "id": "790f3abf",
   "metadata": {},
   "source": [
    "## Q8. How would you define the superclasses of a class?"
   ]
  },
  {
   "cell_type": "markdown",
   "id": "6731beba",
   "metadata": {},
   "source": [
    "_Answer 8:_\n",
    "\n",
    "class Employee(Person): Here child class Employee inherits attributes and methofs from Superclass/Parent Person"
   ]
  }
 ],
 "metadata": {
  "kernelspec": {
   "display_name": "Python 3",
   "language": "python",
   "name": "python3"
  },
  "language_info": {
   "codemirror_mode": {
    "name": "ipython",
    "version": 3
   },
   "file_extension": ".py",
   "mimetype": "text/x-python",
   "name": "python",
   "nbconvert_exporter": "python",
   "pygments_lexer": "ipython3",
   "version": "3.8.8"
  }
 },
 "nbformat": 4,
 "nbformat_minor": 5
}
