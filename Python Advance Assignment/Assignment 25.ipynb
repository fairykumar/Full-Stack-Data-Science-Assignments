{
 "cells": [
  {
   "cell_type": "markdown",
   "id": "e06459cd",
   "metadata": {},
   "source": [
    "## Q1. What is the distinction between a numpy array and a pandas data frame? Is there a way to convert between the two if there is?"
   ]
  },
  {
   "cell_type": "markdown",
   "id": "fbfe686a",
   "metadata": {},
   "source": [
    "_Answer 1:_\n",
    "\n",
    "Numpy Ndarray provides a lot of convenient and optimized methods for performing several mathematical operations on vectors.\n",
    "\n",
    "Pandas Dataframe is an in-memory 2-dimensional tabular representation of data. In simpler words, it can be seen as a spreadsheet having rows and columns.\n",
    "\n",
    "Conversion : Dataframe=pandas.DataFrame(array)"
   ]
  },
  {
   "cell_type": "markdown",
   "id": "fa3dde2b",
   "metadata": {},
   "source": [
    "## Q2. What can go wrong when an user enters in a stock-ticker symbol, and how do you handle it?"
   ]
  },
  {
   "cell_type": "markdown",
   "id": "cdb3517d",
   "metadata": {},
   "source": [
    "_Answer 2:_\n",
    "\n",
    "Bar chart, Line Chart are used for plotting."
   ]
  },
  {
   "cell_type": "markdown",
   "id": "e5a88c7a",
   "metadata": {},
   "source": [
    "## Q3. Identify some of the plotting techniques that are used to produce a stock-market chart."
   ]
  },
  {
   "cell_type": "markdown",
   "id": "2c5e3b42",
   "metadata": {},
   "source": [
    "_Answer 3:_\n",
    "\n",
    "Legend will help comparison between different stocks, so will be essential on a stock market chart"
   ]
  },
  {
   "cell_type": "markdown",
   "id": "ecaa120e",
   "metadata": {},
   "source": [
    "## Q4. Why is it essential to print a legend on a stock market chart?"
   ]
  },
  {
   "cell_type": "markdown",
   "id": "f0da5c66",
   "metadata": {},
   "source": [
    "_Answer 4:_\n",
    "\n",
    "We can use start and end parameters for that. In start we write the date from where we are starting and at the end we write the end date. SO within this span we can restric the duration.Also we can use the parameters like periods for how much times we need the duration and we can also use the frequency parameter."
   ]
  },
  {
   "cell_type": "markdown",
   "id": "19921bde",
   "metadata": {},
   "source": [
    "## Q5. What is the best way to limit the length of a pandas data frame to less than a year?"
   ]
  },
  {
   "cell_type": "markdown",
   "id": "69122abd",
   "metadata": {},
   "source": [
    "_Answer 5:_\n",
    "\n",
    "The 180-day moving average is represented as a line on charts and represents the average price over the past 180 days. The moving average can give traders a sense regarding whether the trend is up or down, while also identifying potential support or resistance areas."
   ]
  },
  {
   "cell_type": "markdown",
   "id": "a7d98741",
   "metadata": {},
   "source": [
    "## Q6. What is the definition of a 180-day moving average?"
   ]
  },
  {
   "cell_type": "markdown",
   "id": "7a77fd22",
   "metadata": {},
   "source": [
    "_Answer 6:_\n",
    "\n",
    "A moving average is another tool used for technical analysis in the share market.\n",
    "\n",
    "A Simple Moving Average is adding up closing prices for a certain time period and then dividing the total by the number of days. The time period used is different and varies from trader to trader depending on their short-term or long-term investment strategy. For example, a short-term trader might be interested in a 5 day moving average while another can be interested in a 20 day moving average. Similarly, a long-term trader might be interested in a 50 day moving average or even a 200 day moving average.\n",
    "\n",
    "Normally if a stock is trading above its moving average, its much likely to perform better in the future as well. A short-term moving average will react sooner to price changes than a long-term moving average. A moving average is seen as a support level by traders and as soon as a stock drops below its moving averages, some selling pressure can be seen."
   ]
  },
  {
   "cell_type": "markdown",
   "id": "21841d16",
   "metadata": {},
   "source": [
    "## Q7. Did the chapter's final example use \"indirect\" importing? If so, how exactly do you do it?"
   ]
  },
  {
   "cell_type": "markdown",
   "id": "5a588b66",
   "metadata": {},
   "source": [
    "_Answer 7:_\n",
    "\n"
   ]
  }
 ],
 "metadata": {
  "kernelspec": {
   "display_name": "Python 3",
   "language": "python",
   "name": "python3"
  },
  "language_info": {
   "codemirror_mode": {
    "name": "ipython",
    "version": 3
   },
   "file_extension": ".py",
   "mimetype": "text/x-python",
   "name": "python",
   "nbconvert_exporter": "python",
   "pygments_lexer": "ipython3",
   "version": "3.8.8"
  }
 },
 "nbformat": 4,
 "nbformat_minor": 5
}
