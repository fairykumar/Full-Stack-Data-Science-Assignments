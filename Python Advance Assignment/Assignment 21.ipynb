{
 "cells": [
  {
   "cell_type": "markdown",
   "id": "b40965a5",
   "metadata": {},
   "source": [
    "## Q1. What is a probability distribution, exactly? If the values are meant to be random, how can you predict them at all? "
   ]
  },
  {
   "cell_type": "markdown",
   "id": "2311304f",
   "metadata": {},
   "source": [
    "_Answer 1:_\n",
    "\n",
    "A probability distribution describes how a random variable is distributed.\n",
    "\n",
    "It tells us which values a random variable is most likely to take on and which values are less likely. Based on the previous data and the occurences of the random event, we can predict the outcome in terms of probabilities."
   ]
  },
  {
   "cell_type": "markdown",
   "id": "798e7466",
   "metadata": {},
   "source": [
    "## Q2. Is there a distinction between true random numbers and pseudo-random numbers, if there is one? Why are the latter considered “good enough”?"
   ]
  },
  {
   "cell_type": "markdown",
   "id": "6e7e88bb",
   "metadata": {},
   "source": [
    "_Answer 2:_\n",
    "\n",
    "True Random Numbers are true physical values while pseudo-random numbers are generated internally by a program . Latter is considered good enough as they have sort of uniform distribution."
   ]
  },
  {
   "cell_type": "markdown",
   "id": "7bfff9c4",
   "metadata": {},
   "source": [
    "## Q3. What are the two main factors that influence the behaviour of a \"normal\" probability distribution?"
   ]
  },
  {
   "cell_type": "markdown",
   "id": "fc3cf774",
   "metadata": {},
   "source": [
    "_Answer 3:_\n",
    "\n",
    "Normal Probability Distribution are influenced by two factors mean and the variance."
   ]
  },
  {
   "cell_type": "markdown",
   "id": "ded7d958",
   "metadata": {},
   "source": [
    "## Q4. Provide a real-life example of a normal distribution. "
   ]
  },
  {
   "cell_type": "markdown",
   "id": "0b42b367",
   "metadata": {},
   "source": [
    "_Answer 4:_\n",
    "\n",
    "A Real-life example of a normal distribution are heights or blood pressure measurements"
   ]
  },
  {
   "cell_type": "markdown",
   "id": "493fb3f2",
   "metadata": {},
   "source": [
    "## Q5. In the short term, how can you expect a probability distribution to behave? What do you think will happen as the number of trials grows?"
   ]
  },
  {
   "cell_type": "markdown",
   "id": "0d7e6e3d",
   "metadata": {},
   "source": [
    "_Answer 5:_\n",
    "\n",
    "Variance will decrease with number of trials."
   ]
  },
  {
   "cell_type": "markdown",
   "id": "f290c3ab",
   "metadata": {},
   "source": [
    "## Q6. What kind of object can be shuffled by using random.shuffle?"
   ]
  },
  {
   "cell_type": "markdown",
   "id": "817de913",
   "metadata": {},
   "source": [
    "_Answer 6:_\n",
    "\n",
    "lists (list), strings (str) and tuples (tuple) objects can be shuffled by using random.shuffle."
   ]
  },
  {
   "cell_type": "markdown",
   "id": "18092462",
   "metadata": {},
   "source": [
    "## Q7. Describe the math package's general categories of functions."
   ]
  },
  {
   "cell_type": "markdown",
   "id": "90210759",
   "metadata": {},
   "source": [
    "_Answer 7:_\n",
    "\n",
    "The Math package's general categories of functions are:\n",
    "\n",
    "1. Trigonometric functions\n",
    "2. Quadratic functions\n",
    "3. Exponential functions\n",
    "4. Hyperbolic functions\n",
    "5. Periodic functions\n",
    "6. Arithmetic functions\n",
    "7. Logarithimic functions\n",
    "8. Conversions to Integer"
   ]
  },
  {
   "cell_type": "markdown",
   "id": "a1a1b6d1",
   "metadata": {},
   "source": [
    "## Q8. What is the relationship between exponentiation and logarithms?"
   ]
  },
  {
   "cell_type": "markdown",
   "id": "3d5081b1",
   "metadata": {},
   "source": [
    "_Answer 8:_\n",
    "\n",
    "Exponentiation and logarithms are inverse of each other."
   ]
  },
  {
   "cell_type": "markdown",
   "id": "6ab744b4",
   "metadata": {},
   "source": [
    "## Q9. What are the three logarithmic functions that Python supports?"
   ]
  },
  {
   "cell_type": "markdown",
   "id": "78ed277a",
   "metadata": {},
   "source": [
    "_Answer 9:_\n",
    "\n",
    "The Three Logarithmic Functions that Python supports are:\n",
    "\n",
    "1. log2(x) - logarithmic value of x to base 2\n",
    "2. log10(x) - logarithmic value of x to base 10\n",
    "3. log1p(a) - This function is used to compute logarithm(1+a) ."
   ]
  }
 ],
 "metadata": {
  "kernelspec": {
   "display_name": "Python 3",
   "language": "python",
   "name": "python3"
  },
  "language_info": {
   "codemirror_mode": {
    "name": "ipython",
    "version": 3
   },
   "file_extension": ".py",
   "mimetype": "text/x-python",
   "name": "python",
   "nbconvert_exporter": "python",
   "pygments_lexer": "ipython3",
   "version": "3.8.8"
  }
 },
 "nbformat": 4,
 "nbformat_minor": 5
}
