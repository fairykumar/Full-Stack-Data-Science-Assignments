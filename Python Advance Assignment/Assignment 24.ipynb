{
 "cells": [
  {
   "cell_type": "markdown",
   "id": "6fc324ad",
   "metadata": {},
   "source": [
    "## Q1. Is it permissible to use several import statements to import the same module? What would the goal be? Can you think of a situation where it would be beneficial?"
   ]
  },
  {
   "cell_type": "markdown",
   "id": "ca6d7fbe",
   "metadata": {},
   "source": [
    "_Answer 1:_\n",
    "\n",
    "Yes, it is permissible to use several import statements to import the same module. It is used in case when we have to import multiple functions from same module."
   ]
  },
  {
   "cell_type": "markdown",
   "id": "cd89948b",
   "metadata": {},
   "source": [
    "## Q2. What are some of a module's characteristics? (Name at least one.)"
   ]
  },
  {
   "cell_type": "markdown",
   "id": "d925211e",
   "metadata": {},
   "source": [
    "_Answer 2:_\n",
    "\n",
    "The following are some of a module's characteristics:\n",
    "\n",
    "• __name__ : It returns the name of the module\n",
    "\n",
    "• __doc__ : It denotes the documentation string line written in a module code.\n",
    " \n",
    "• __file__ : It holds the name and path of the module file from which it is loaded\n",
    "\n",
    "• __dict__ : It return a dictionary object of module attributes, functions and other definitions and their respective values"
   ]
  },
  {
   "cell_type": "markdown",
   "id": "b800fddc",
   "metadata": {},
   "source": [
    "## Q3. Circular importing, such as when two modules import each other, can lead to dependencies and bugs that aren't visible. How can you go about creating a program that avoids mutual importing?"
   ]
  },
  {
   "cell_type": "markdown",
   "id": "796f99f0",
   "metadata": {},
   "source": [
    "_Answer 3:_\n",
    "\n",
    "Circular importing means importing the two modules in each other. If suppose we are wokring in MOD1.py file and it is importing some function say F2() from some other module say MOD2.PY file or we can do vice-versa. What will happen is: This will give an import error.\n",
    "\n",
    "This is because when we import F2() function from module MOD2.py, then this will execute MOD2.py file. And in MOD2.py file there is an another statement of importing MOD1.py module.\n",
    "\n",
    "This will result in endless loop. To avoid this error just do one thingWe can use if __name__ == '__main__'\n",
    "\n",
    "In the function, you can't directly refer to the function in the program. The addition of this sentence avoids the endless loop of the program ."
   ]
  },
  {
   "cell_type": "markdown",
   "id": "5feeb95f",
   "metadata": {},
   "source": [
    "## Q4. Why is  _ _all_ _ in Python?"
   ]
  },
  {
   "cell_type": "markdown",
   "id": "a0927298",
   "metadata": {},
   "source": [
    "_Answer 4:_\n",
    "\n",
    "It provides list of all modules present in a library."
   ]
  },
  {
   "cell_type": "markdown",
   "id": "5cdd3a20",
   "metadata": {},
   "source": [
    "## Q5. In what situation is it useful to refer to the _ _name_ _ attribute or the string '_ _main_ _'?"
   ]
  },
  {
   "cell_type": "markdown",
   "id": "e923f12f",
   "metadata": {},
   "source": [
    "_Answer 5:_\n",
    "\n",
    "During the time of execution of the code if we want to refer the module in which we are working on then we uses name attribute. In that case it will return the module in which we are working on. Suppose if that moudle is being imported from some other module then name will have the name of that moudle from where the current module has been imported. The current module in which we are working is refer to the string __main __."
   ]
  },
  {
   "cell_type": "markdown",
   "id": "c2ecd8ac",
   "metadata": {},
   "source": [
    "## Q6. What are some of the benefits of attaching a program counter to the RPN interpreter application, which interprets an RPN script line by line?"
   ]
  },
  {
   "cell_type": "markdown",
   "id": "42136638",
   "metadata": {},
   "source": [
    "_Answer 6:_\n",
    "\n",
    "Reverse Polish notation (RPN), also known as Polish postfix notation or simply postfix notation, is a mathematical notation in which operators follow their operands, in contrast to Polish notation (PN), in which operators precede their operands. It does not need any parentheses as long as each operator has a fixed number of operands. \n",
    "\n",
    "__Benefits:__\n",
    "\n",
    "→ RPN saves time and keystrokes. One can avoid using and keeping track of parentheses while doing calculations. The process is similar to the way you learned math on paper.\n",
    "\n",
    "→ You can see the intermediary results as you perform your computations rather than just the answer at the end. This is extremely helpful for learning the logic. Math teachers are using this feature to improve student understanding of mathematics.\n",
    "\n",
    "→ An intermediate result allows the user to check the answer and correct errors more easily. It's easier to follow the stream of calculation. The user defines the priority of operators.\n",
    "\n",
    "→ RPN is logical because the user first gives the number and then tells what to do with it."
   ]
  },
  {
   "cell_type": "markdown",
   "id": "be3750fc",
   "metadata": {},
   "source": [
    "## Q7. What are the minimum expressions or statements (or both) that you'd need to render a basic programming language like RPN primitive but complete— that is, capable of carrying out any computerised task theoretically possible?"
   ]
  },
  {
   "cell_type": "code",
   "execution_count": 4,
   "id": "6175ab97",
   "metadata": {},
   "outputs": [
    {
     "name": "stdout",
     "output_type": "stream",
     "text": [
      "8\n",
      "8\n"
     ]
    }
   ],
   "source": [
    "# Answer 7:\n",
    "\n",
    "# Reverse Polish Notation (RPN) Evaluator in Python\n",
    "import logging\n",
    "import operator as op\n",
    "import sys\n",
    "from typing import Any, List, Union\n",
    "\n",
    "logging.getLogger(__name__).setLevel(\"INFO\")\n",
    "supported_operators = {\"+\": op.add, \"-\": op.sub, \"*\": op.mul, \"/\": op.truediv}\n",
    "Number = Union[int, float]\n",
    "\n",
    "def tokenize(expr: str) -> List[str]:\n",
    "    \"\"\"Breaks expression `expr` into a list of tokens\"\"\"\n",
    "    return expr.split(\" \")\n",
    "\n",
    "def mpop(stack: List[Any], n: int = 1) -> List[Any]:\n",
    "    \"\"\"Pops and returns `n` items from a stack. Mutates `stack`\"\"\"\n",
    "    return [stack.pop() for _ in range(n)]\n",
    "\n",
    "def to_num(x: Any) -> Number:\n",
    "    \"\"\"Converts a value to a its appropriate numeric type\"\"\"\n",
    "    n = float(x)\n",
    "    return int(n) if n.is_integer() else n\n",
    "\n",
    "def consume_token(token: str, stack: List[Number]) -> List[Number]:\n",
    "    \"\"\"Consumes a token given the current stack and returns the updated stack\"\"\"\n",
    "    if token in supported_operators:\n",
    "        try:\n",
    "            num1, num2 = mpop(stack, 2)\n",
    "        except IndexError:\n",
    "            logging.error(\"SyntaxError: Malformed expression\")\n",
    "            sys.exit(1)\n",
    "\n",
    "        result = supported_operators[token](num2, num1)\n",
    "        return [*stack, result]\n",
    "    else:\n",
    "        try:\n",
    "            return [*stack, to_num(token)]\n",
    "        except ValueError:\n",
    "            logging.error(\"SyntaxError: Unsupported token '%s'\", token)\n",
    "            sys.exit(1)\n",
    "\n",
    "def get_result_from_stack(stack: List[Number]) -> Number:\n",
    "    \"\"\"Gets the result from `stack`\"\"\"\n",
    "    result, *rest = mpop(stack, 1)\n",
    "    if rest:\n",
    "        logging.error(\"SyntaxError: Found extra tokens\")\n",
    "        sys.exit(1)\n",
    "    return result\n",
    "\n",
    "def evaluate_v1(tokens: List[str]) -> Number:\n",
    "    \"\"\"Evaluates a tokenized expression and returns the result\"\"\"\n",
    "    stack: List = []\n",
    "\n",
    "    for token in tokens:\n",
    "        stack = consume_token(token, stack)\n",
    "\n",
    "    return get_result_from_stack(stack)\n",
    "\n",
    "def evaluate_v2(tokens: List[str]) -> Number:\n",
    "    \"\"\"Evaluates a tokenized expression and returns the result\"\"\"\n",
    "\n",
    "    def _evaluate(tokens: List[str], stack: List) -> Number:\n",
    "        if not tokens:\n",
    "            return get_result_from_stack(stack)\n",
    "\n",
    "        stack = consume_token(tokens[0], stack)\n",
    "\n",
    "        return _evaluate(tokens[1:], stack)\n",
    "\n",
    "    return _evaluate(tokens, [])\n",
    "\n",
    "if __name__ == \"__main__\":\n",
    "    \n",
    "    print(evaluate_v2(tokenize(input())))"
   ]
  }
 ],
 "metadata": {
  "kernelspec": {
   "display_name": "Python 3",
   "language": "python",
   "name": "python3"
  },
  "language_info": {
   "codemirror_mode": {
    "name": "ipython",
    "version": 3
   },
   "file_extension": ".py",
   "mimetype": "text/x-python",
   "name": "python",
   "nbconvert_exporter": "python",
   "pygments_lexer": "ipython3",
   "version": "3.8.8"
  }
 },
 "nbformat": 4,
 "nbformat_minor": 5
}
