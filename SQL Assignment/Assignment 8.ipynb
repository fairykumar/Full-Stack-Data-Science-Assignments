{
 "cells": [
  {
   "cell_type": "markdown",
   "id": "8b9059f6",
   "metadata": {},
   "source": [
    "## Q-15. Write an SQL query to fetch intersecting records of two tables."
   ]
  },
  {
   "cell_type": "markdown",
   "id": "ef73e7ed",
   "metadata": {},
   "source": [
    "_Answer:_\n",
    "\n",
    "SELECT <Column_names> FROM table_1 INTERSECT SELECT <Column_names> FROM table_2;"
   ]
  },
  {
   "cell_type": "markdown",
   "id": "845db644",
   "metadata": {},
   "source": [
    "## Q-16. Write an SQL query to show records from one table that another table does not have."
   ]
  },
  {
   "cell_type": "markdown",
   "id": "a0908bf3",
   "metadata": {},
   "source": [
    "_Answer:_\n",
    "\n",
    "SELECT * FROM table_1 EXCEPT SELECT * FROM table_2;"
   ]
  }
 ],
 "metadata": {
  "kernelspec": {
   "display_name": "Python 3",
   "language": "python",
   "name": "python3"
  },
  "language_info": {
   "codemirror_mode": {
    "name": "ipython",
    "version": 3
   },
   "file_extension": ".py",
   "mimetype": "text/x-python",
   "name": "python",
   "nbconvert_exporter": "python",
   "pygments_lexer": "ipython3",
   "version": "3.8.8"
  }
 },
 "nbformat": 4,
 "nbformat_minor": 5
}
