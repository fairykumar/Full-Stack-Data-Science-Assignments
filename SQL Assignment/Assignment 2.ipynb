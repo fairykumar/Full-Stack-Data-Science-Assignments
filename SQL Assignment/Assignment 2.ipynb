{
 "cells": [
  {
   "cell_type": "markdown",
   "id": "af29d33a",
   "metadata": {},
   "source": [
    "## Q-1. Write an SQL query to print the first three characters of  FIRST_NAME from Worker Q-"
   ]
  },
  {
   "cell_type": "markdown",
   "id": "cd721fe1",
   "metadata": {},
   "source": [
    "_Answer:_\n",
    "\n",
    "SELECT SUBSTRING(FIRST_NAME,1,3) FROM Worker;"
   ]
  },
  {
   "cell_type": "markdown",
   "id": "19b0ea01",
   "metadata": {},
   "source": [
    "## 2. Write an SQL query to find the position of the alphabet (‘a’) in the first name column ‘Amitabh’ from Worker table.table."
   ]
  },
  {
   "cell_type": "markdown",
   "id": "8934cde8",
   "metadata": {},
   "source": [
    "_Answer:_\n",
    "\n",
    "### Apporach 1\n",
    "SELECT LOCATE('a',FIRST_NAME) FROM Worker WHERE FIRST_NAME = 'Amitabh';\n",
    "\n",
    "### Approach 2\n",
    "SELECT POSITION('a' IN FIRST_NAME) FROM Worker WHERE FIRST_NAME = 'Amitabh';"
   ]
  },
  {
   "cell_type": "markdown",
   "id": "05667a18",
   "metadata": {},
   "source": [
    "## Q-3. Write an SQL query to print the name of employees having the highest salary in each department."
   ]
  },
  {
   "cell_type": "markdown",
   "id": "4e5a59bf",
   "metadata": {},
   "source": [
    "_Answer:_\n",
    "\n",
    "SELECT first_name, last_name, salary, department FROM Worker w WHERE salary = (SELECT MAX(salary) FROM Worker WHERE department = w.department)"
   ]
  }
 ],
 "metadata": {
  "kernelspec": {
   "display_name": "Python 3",
   "language": "python",
   "name": "python3"
  },
  "language_info": {
   "codemirror_mode": {
    "name": "ipython",
    "version": 3
   },
   "file_extension": ".py",
   "mimetype": "text/x-python",
   "name": "python",
   "nbconvert_exporter": "python",
   "pygments_lexer": "ipython3",
   "version": "3.8.8"
  }
 },
 "nbformat": 4,
 "nbformat_minor": 5
}
