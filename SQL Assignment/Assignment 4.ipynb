{
 "cells": [
  {
   "cell_type": "markdown",
   "id": "06b22d3e",
   "metadata": {},
   "source": [
    "## Q-1. Write an SQL query to print the FIRST_NAME from Worker table after replacing ‘a’ with ‘A’."
   ]
  },
  {
   "cell_type": "markdown",
   "id": "ebf5f895",
   "metadata": {},
   "source": [
    "_Answer:_\n",
    "\n",
    "SELECT REPLACE(FIRST_NAME,'a','A') FROM Wokrer;"
   ]
  },
  {
   "cell_type": "markdown",
   "id": "37b1de0f",
   "metadata": {},
   "source": [
    "## Q-2. Write an SQL query to print all Worker details from the Worker table order by FIRST_NAME Ascending and DEPARTMENT Descending."
   ]
  },
  {
   "cell_type": "markdown",
   "id": "d31687fa",
   "metadata": {},
   "source": [
    "_Answer:_\n",
    "\n",
    "SELECT * FROM Worker ORDER BY FIRST_NAME ASC, LAST_NAME DESC;"
   ]
  },
  {
   "cell_type": "markdown",
   "id": "8f24d6cd",
   "metadata": {},
   "source": [
    "## Q-3. Write an SQL query to fetch the names of workers who earn the highest salary."
   ]
  },
  {
   "cell_type": "markdown",
   "id": "e76b9659",
   "metadata": {},
   "source": [
    "_Answer:_\n",
    "\n",
    "SELECT FIRST_NAME, LAST_NAME FROM Worker WHERE SALARY = (SELECT MAX(SALARY) FROM Worker);"
   ]
  }
 ],
 "metadata": {
  "kernelspec": {
   "display_name": "Python 3",
   "language": "python",
   "name": "python3"
  },
  "language_info": {
   "codemirror_mode": {
    "name": "ipython",
    "version": 3
   },
   "file_extension": ".py",
   "mimetype": "text/x-python",
   "name": "python",
   "nbconvert_exporter": "python",
   "pygments_lexer": "ipython3",
   "version": "3.8.8"
  }
 },
 "nbformat": 4,
 "nbformat_minor": 5
}
