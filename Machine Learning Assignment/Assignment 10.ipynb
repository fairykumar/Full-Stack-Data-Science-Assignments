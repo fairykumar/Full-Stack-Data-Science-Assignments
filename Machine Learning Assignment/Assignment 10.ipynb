{
 "cells": [
  {
   "cell_type": "markdown",
   "id": "ded6fd25",
   "metadata": {},
   "source": [
    "## 1. Define the Bayesian interpretation of probability.\n"
   ]
  },
  {
   "cell_type": "markdown",
   "id": "c8493c58",
   "metadata": {},
   "source": [
    "_Answer 1:_\n",
    "\n",
    "Bayesian probability is the study of subjective probabilities or belief in an outcome, compared to the frequentist approach where probabilities are based purely on the past occurrence of the event. A Bayesian Network captures the joint probabilities of the events represented by the model."
   ]
  },
  {
   "cell_type": "markdown",
   "id": "230e5dbc",
   "metadata": {},
   "source": [
    "## 2. Define probability of a union of two events with equation.\n"
   ]
  },
  {
   "cell_type": "markdown",
   "id": "ae997deb",
   "metadata": {},
   "source": [
    "_Answer 2:_\n",
    "\n",
    "The general probability addition rule for the union of two events states that P(A∪B)=P(A)+P(B)−P(A∩B), where A∩B is the intersection of the two sets."
   ]
  },
  {
   "cell_type": "markdown",
   "id": "702362a8",
   "metadata": {},
   "source": [
    "## 3. What is joint probability? What is its formula?\n"
   ]
  },
  {
   "cell_type": "markdown",
   "id": "097a66d0",
   "metadata": {},
   "source": [
    "_Answer 3:_\n",
    "\n",
    "Probabilities are combined using multiplication, therefore the joint probability of independent events is calculated as the probability of event A multiplied by the probability of event B. This can be stated formally as follows:\n",
    "\n",
    "Joint Probability: P(A and B) = P(A)*P(B)"
   ]
  },
  {
   "cell_type": "markdown",
   "id": "54da4e4a",
   "metadata": {},
   "source": [
    "## 4. What is chain rule of probability?\n"
   ]
  },
  {
   "cell_type": "markdown",
   "id": "3a889c49",
   "metadata": {},
   "source": [
    "_Answer 4:_\n",
    "\n",
    "The chain rule, or general product rule, calculates any component of the joint distribution of a set of random variables using only conditional probabilities. This probability theory is used as a foundation for backpropagation and in creating Bayesian networks."
   ]
  },
  {
   "cell_type": "markdown",
   "id": "f8e9c0fd",
   "metadata": {},
   "source": [
    "## 5. What is conditional probability means? What is the formula of it?\n"
   ]
  },
  {
   "cell_type": "markdown",
   "id": "55f742be",
   "metadata": {},
   "source": [
    "_Answer 5:_\n",
    "\n",
    "Conditional probability is defined as the likelihood of an event or outcome occurring, based on the occurrence of a previous event or outcome.\n",
    "\n",
    "Conditional probability is calculated by multiplying the probability of the preceding event by the updated probability of the succeeding, or conditional, event.\n",
    "\n",
    "Let's take a real-life example. Probability of selling a TV on a given normal day may be only 30%. But if we consider that given day is Diwali, then there are much more chances of selling a TV. The conditional Probability of selling a TV on a day given that Day is Diwali might be 70%."
   ]
  },
  {
   "cell_type": "markdown",
   "id": "369da886",
   "metadata": {},
   "source": [
    "## 6. What are continuous random variables?\n"
   ]
  },
  {
   "cell_type": "markdown",
   "id": "b0b7cc41",
   "metadata": {},
   "source": [
    "_Answer 6:_\n",
    "\n",
    "A continuous random variable X takes all values in a given interval of numbers. ▪ The probability distribution of a continuous random variable is shown by a density curve. ▪ The probability that X is between an interval of numbers is the area under the density curve between the interval endpoints."
   ]
  },
  {
   "cell_type": "markdown",
   "id": "d55fc2f0",
   "metadata": {},
   "source": [
    "## 7. What are Bernoulli distributions? What is the formula of it?\n"
   ]
  },
  {
   "cell_type": "markdown",
   "id": "4152b369",
   "metadata": {},
   "source": [
    "_Answer 7:_\n",
    "\n",
    "A Bernoulli distribution is a discrete probability distribution for a Bernoulli trial — a random experiment that has only two outcomes (usually called a Succes or a Failure).The expected value for a random variable, X.\n",
    "\n",
    "For a Bernoulli distribution is: E[X] = p.For example, if p = 0.04, then E[X] = 0.4"
   ]
  },
  {
   "cell_type": "markdown",
   "id": "e07351cf",
   "metadata": {},
   "source": [
    "## 8. What is binomial distribution? What is the formula?\n"
   ]
  },
  {
   "cell_type": "markdown",
   "id": "7a97bc7c",
   "metadata": {},
   "source": [
    "_Answer 8:_\n",
    "\n",
    "The binomial is a type of distribution that has two possible outcomes (the prefix “bi” means two, or twice).For example, a coin toss has only two possible outcomes: heads or tails and taking a test could have two possible outcomes: pass or fail.\n",
    "\n",
    "A Binomial Distribution shows either (S)uccess or (F)ailure."
   ]
  },
  {
   "cell_type": "markdown",
   "id": "f564abae",
   "metadata": {},
   "source": [
    "## 9. What is Poisson distribution? What is the formula?\n"
   ]
  },
  {
   "cell_type": "markdown",
   "id": "91697b0a",
   "metadata": {},
   "source": [
    "_Answer 9:_\n",
    "\n",
    "A Poisson distribution is defined as a discrete frequency distribution that gives the probability of the number of independent events that occur in the fixed time.\n",
    "\n",
    "In statistics, a Poisson distribution is a probability distribution that is used to show how many times an event is likely to occur over a specified period. ... The Poisson distribution is a discrete function, meaning that the variable can only take specific values in a (potentially infinite) list."
   ]
  },
  {
   "cell_type": "markdown",
   "id": "89bae53e",
   "metadata": {},
   "source": [
    "## 10. Define covariance.\n"
   ]
  },
  {
   "cell_type": "markdown",
   "id": "76f6d925",
   "metadata": {},
   "source": [
    "_Answer 10:_\n",
    "\n",
    "Covariance is a measure of how much two random variables vary together. It's similar to variance, but where variance tells you how a single variable varies, co variance tells you how two variables vary together."
   ]
  },
  {
   "cell_type": "markdown",
   "id": "6d373675",
   "metadata": {},
   "source": [
    "## 11. Define correlation\n"
   ]
  },
  {
   "cell_type": "markdown",
   "id": "9edc6469",
   "metadata": {},
   "source": [
    "_Answer 11:_\n",
    "\n",
    "Correlation explains how one or more variables are related to each other. These variables can be input data features which have been used to forecast our target variable. It's a bi-variate analysis measure which describes the association between different variables."
   ]
  },
  {
   "cell_type": "markdown",
   "id": "e8454231",
   "metadata": {},
   "source": [
    "## 12. Define sampling with replacement. Give example.\n"
   ]
  },
  {
   "cell_type": "markdown",
   "id": "f9addf66",
   "metadata": {},
   "source": [
    "_Answer 12:_\n",
    "\n",
    "If you sample with replacement, you would choose one person's name, put that person's name back in the hat, and then choose another name. The possibilities for your two-name sample are: John, John. John, Jack."
   ]
  },
  {
   "cell_type": "markdown",
   "id": "f5e55287",
   "metadata": {},
   "source": [
    "## 13. What is sampling without replacement? Give example.\n"
   ]
  },
  {
   "cell_type": "markdown",
   "id": "fe485d3f",
   "metadata": {},
   "source": [
    "_Answer 13:_\n",
    "\n",
    "In sampling without replacement, each sample unit of the population has only one chance to be selected in the sample. For example, if one draws a simple random sample such that no unit occurs more than one time in the sample, the sample is drawn without replacement."
   ]
  },
  {
   "cell_type": "markdown",
   "id": "aba20d57",
   "metadata": {},
   "source": [
    "## 14. What is hypothesis? Give example."
   ]
  },
  {
   "cell_type": "markdown",
   "id": "8b2c9087",
   "metadata": {},
   "source": [
    "_Answer 14:_\n",
    "\n",
    "A hypothesis (plural hypotheses) is a proposed explanation for a phenomenon. For a hypothesis to be a scientific hypothesis, the scientific method requires that one can test it. ... Even though the words \"hypothesis\" and \"theory\" are often used synonymously, a scientific hypothesis is not the same as a scientific theory.\n",
    "\n",
    "Examples of hypothesis statements: If garlic repels fleas, then a dog that is given garlic every day will not get fleas. Bacterial growth may be affected by moisture levels in the air. If sugar causes cavities, then people who eat a lot of candy may be more prone to cavities."
   ]
  }
 ],
 "metadata": {
  "kernelspec": {
   "display_name": "Python 3",
   "language": "python",
   "name": "python3"
  },
  "language_info": {
   "codemirror_mode": {
    "name": "ipython",
    "version": 3
   },
   "file_extension": ".py",
   "mimetype": "text/x-python",
   "name": "python",
   "nbconvert_exporter": "python",
   "pygments_lexer": "ipython3",
   "version": "3.8.8"
  }
 },
 "nbformat": 4,
 "nbformat_minor": 5
}
